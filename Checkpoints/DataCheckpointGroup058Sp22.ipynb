{
 "cells": [
  {
   "cell_type": "markdown",
   "metadata": {},
   "source": [
    "# COGS 108 - Data Checkpoint"
   ]
  },
  {
   "cell_type": "markdown",
   "metadata": {},
   "source": [
    "# Names\n",
    "\n",
    "- Issac Navarro\n",
    "- Kelly Nham\n",
    "- Aryan Safari\n",
    "- Albert Zhong"
   ]
  },
  {
   "cell_type": "markdown",
   "metadata": {},
   "source": [
    "<a id='research_question'></a>\n",
    "# Research Question"
   ]
  },
  {
   "cell_type": "markdown",
   "metadata": {},
   "source": [
    "Is there a relationship between the google search trends of an endangered animal and how much funding is put into conservation efforts for that animal?"
   ]
  },
  {
   "cell_type": "markdown",
   "metadata": {},
   "source": [
    "# Dataset(s)"
   ]
  },
  {
   "cell_type": "markdown",
   "metadata": {},
   "source": [
   
    "- Dataset Name: Funding vs Google Search Trends\n",
    "- Link to the dataset: https://docs.google.com/spreadsheets/d/1jG4ATTAEpZRLyAtFl_YfSXwQG-UUS8nzZBZuhlldMgU/edit?usp=sharing\n",
    "- Number of observations: 20+ (WIP, will have at least 20 and add more if needed)\n",
    "\n",
    "Since there aren't any large convenient csv files out in the wild for funding, we had to scour the internet manually in order to find any funding numbers for each animal, and so our dataset is one that we are making ourself in a google spreadsheet. For the data itself, each of us picked out 5 animals we were able to find some sort of funding data for (ie from grants or government funding), and compared them to each other in google search trends (with what each animal was compared against shown by group number). We had 5 animals per group because that is the maximum number of categories allowed by google search trends.\n",
    "\n",
    "- Dataset Name: Top Federal Funding\n",
    "- Link to the dataset: https://docs.google.com/spreadsheets/d/1AwfnfHxvWLS652FB7T_OK74_3Tq5XqcWcK-kupIaqfc/edit?usp=sharing\n as well as the .csv files uploaded in our repo \n",
    "- Number of observations: 17\n",
    "\n",
    "For this one, we found a list of the top 20 animals in terms of federal funding (source: https://ballotpedia.org/Top_20_federally_funded_species#Top_species_in_2012) and combined some of them since it was the same species in different regions. Since it was in a list, we had to manually input all the numbers into a google spreadsheet for it to be in a csv. Furthermore, we split them into groups to compare them 5 at a time similar to the process mentioned for the dataset above. \n",
    "\n",
    "To combine our datasets, we have two options. Since the process we used is similar, we can potentially combine them all manually into one big csv file. Alternatively, we can use a groupby function."
   ]
  },
  {
   "cell_type": "markdown",
   "metadata": {},
   "source": [
    "# Setup"
   ]
  },
  {
   "cell_type": "code",
   "execution_count": 1,
   "metadata": {},
   "outputs": [],
   "source": [
    "## Since our data collection is still a work in progress due to having to manually data scour for all of our data points, we don't have a setup ready at this time."
   ]
  },
  {
   "cell_type": "markdown",
   "metadata": {},
   "source": [
    "# Data Cleaning"
   ]
  },
  {
   "cell_type": "markdown",
   "metadata": {},
   "source": [
    "Essentially all our data is data that we input ourselves into our spreadsheets, thus the cleaning is mainly going to be in making sure we are consistent in the way we put it into our spreadsheet instead of through code."
   ]
  },
  {
   "cell_type": "code",
   "execution_count": 2,
   "metadata": {},
   "outputs": [],
   "source": [
    "## N/A\n"
   ]
  }
 ],
 "metadata": {
  "kernelspec": {
   "display_name": "Python 3",
   "language": "python",
   "name": "python3"
  },
  "language_info": {
   "codemirror_mode": {
    "name": "ipython",
    "version": 3
   },
   "file_extension": ".py",
   "mimetype": "text/x-python",
   "name": "python",
   "nbconvert_exporter": "python",
   "pygments_lexer": "ipython3",
   "version": "3.7.9"
  }
 },
 "nbformat": 4,
 "nbformat_minor": 2
}
