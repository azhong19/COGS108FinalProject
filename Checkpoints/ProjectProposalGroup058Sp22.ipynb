{
 "cells": [
  {
   "cell_type": "markdown",
   "metadata": {},
   "source": [
    "# COGS 108 - Final Project Proposal"
   ]
  },
  {
   "cell_type": "markdown",
   "metadata": {},
   "source": [
    "# Names\n",
    "\n",
    "- Issac Navarro\n",
    "- Kelly Nham\n",
    "- Aryan Safari\n",
    "- Albert Zhong"
   ]
  },
  {
   "cell_type": "markdown",
   "metadata": {},
   "source": [
    "# Research Question"
   ]
  },
  {
   "cell_type": "markdown",
   "metadata": {},
   "source": [
    "Is there a relationship between the google search trends of an endangered animal and how much funding is put into conservation efforts for that animal?"
   ]
  },
  {
   "cell_type": "markdown",
   "metadata": {},
   "source": [
    "## Background and Prior Work"
   ]
  },
  {
   "cell_type": "markdown",
   "metadata": {},
   "source": [
    "Conservation efforts for endangered animals are vital in order to prevent their extinction. However, these efforts require funding, and there's only a limited amount to go around. This begs the question, what determines how much fundings should go towards which animal? \n",
    "One potential, yet regretable, way these funds may be distributed may be based off of how prevalent the animal is in media. For example, as seen through google trends data, mammals are far more representated in media compared to reptiles, amphibians, and fish[^Holmes et al]. Therefore, while success stories of saving popular mammals, such as the giant panda, are well known, there are also likely many obscure reptiles that have become extinct unbeknownst to the general public. \n",
    "In fact, this type of trend can already be seen in terms of how much scientific research is done on certain species. Currently, research on animal biodiversity is biased towards vertebrates, with a more pronounced effect in highly cited papers. Furthermore, studies are more frequently carried out in developed countries, particularly those in temperate areas[^Titley et al]. \n",
    "\n",
    "[^Holmes et al]: Holmes, B., Strzelecki, A., Springer, S., and Zieger, M. (25 Mar 2022). Google Trends data reveal a sharp trend: teeth and claws attract more interest than feathers, hooves or fins. *Cambridge University Press*. https://doi.org/10.1017/S037689292200011X \n",
    "[^Titley et al]: Titley, M. A., Snaddon, J. L., Turner, E. C. (14 Dec 2017). Scientific research on animal biodiversity is systematically biased towards vertebrates and temperate regions. *PLoS One*. https://dx.doi.org/10.1371%2Fjournal.pone.0189577 \n"
   ]
  },
  {
   "cell_type": "markdown",
   "metadata": {},
   "source": [
    "# Hypothesis\n"
   ]
  },
  {
   "cell_type": "markdown",
   "metadata": {},
   "source": [
    "Our hypothesis is that **there will be a positive correlation between the more popular animals (as found through the google search trends), and how much funding is put into the conservation efforts for that animal.** We believe this will likely be the case for a multitude of reasons. First, since there is greater publicity for the more popular animals, wildlife conservation funds will be more likely to focus their efforts on these animals instead of more obscure ones. Second, there will be greater public awareness for the more popular animals, leading to more public donations for these animals. Lastly, people would be more likely to support spending towards more popular animals compared to less well known ones.\n",
    " In essence, this all comes down to the publicity factor for these animals leading to a stronger incentive to provide funding for them. "
   ]
  },
  {
   "cell_type": "markdown",
   "metadata": {},
   "source": [
    "# Data"
   ]
  },
  {
   "cell_type": "markdown",
   "metadata": {},
   "source": [
    "We would prefer all our data to be organized in .csv files. We would like if both datasets are observed annually over the spand of at least 10 years to have a substational amount of data to analyze. Hopefully we can find data for annual funding for at least 5 animals with significant differences in popularity to see how their grants compare to one another."
   ]
  },
  {
   "cell_type": "markdown",
   "metadata": {},
   "source": [
    "# Ethics & Privacy"
   ]
  },
  {
   "cell_type": "markdown",
   "metadata": {},
   "source": [
    "Our group will be using public data, which do not contain any personal data so there is no privicy concerns. Our data comes from open sources, that are free for everyone who are interested in using it."
   ]
  },
  {
   "cell_type": "markdown",
   "metadata": {},
   "source": [
    "# Team Expectations "
   ]
  },
  {
   "cell_type": "markdown",
   "metadata": {},
   "source": [
    "* **Decision Making**: We will come to a consensus and discuss pros and cons for the decision, as well as what the best course of action is.\n",
    "* **Communication**: We will schedule additional meetings when needed through Zoom/Discord, and message through our discord group chat.\n",
    "* **Conflict Resolution**: We will discuss the conflict and brainstorm how it can be solved, being sure to gather input from everyone before proceeding.\n",
    "* **Desirable Behaviors**: Complete assigned work, attend meetings, work together, listen to everyone, and most importantly learn about data science!"
   ]
  },
  {
   "cell_type": "markdown",
   "metadata": {},
   "source": [
    "# Project Timeline Proposal"
   ]
  },
  {
   "cell_type": "markdown",
   "metadata": {},
   "source": [
    "| Meeting Date  | Meeting Time| Completed Before Meeting  | Discuss at Meeting |\n",
    "|---|---|---|---|\n",
    "| 4/18  | 9 PM | Read & Think about COGS 108 expectations; brainstorm topics/questions  | Determine best form of communication; Discuss and decide on final project topic; discuss hypothesis; begin background research | \n",
    "| 4/19  | 9 PM |  Do background research on topic | Discuss ideal dataset(s) and ethics; draft project proposal | \n",
    "| 4/21  | 9 PM  | Edit, finalize, and submit proposal; Search for datasets  | Discuss Wrangling and possible analytical approaches; Assign group members to lead each specific part   |\n",
    "| 5/6 | 9 PM  | Import & Wrangle Data ; EDA | Review/Edit wrangling/EDA; Discuss Analysis Plan   |\n",
    "| 5/16  | 9 PM  | Finalize wrangling/EDA; Begin Analysis | Discuss/edit Analysis; Complete project check-in |\n",
    "| 5/30  | 9 PM  | Complete analysis; Draft results/conclusion/discussion | Discuss/edit full project |\n",
    "| 6/6  | Before 11:59 PM  | NA | Turn in Final Project & Group Project Surveys |"
   ]
  }
 ],
 "metadata": {
  "kernelspec": {
   "display_name": "Python 3",
   "language": "python",
   "name": "python3"
  },
  "language_info": {
   "codemirror_mode": {
    "name": "ipython",
    "version": 3
   },
   "file_extension": ".py",
   "mimetype": "text/x-python",
   "name": "python",
   "nbconvert_exporter": "python",
   "pygments_lexer": "ipython3",
   "version": "3.7.9"
  }
 },
 "nbformat": 4,
 "nbformat_minor": 2
}
