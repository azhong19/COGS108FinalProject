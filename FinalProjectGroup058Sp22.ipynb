{
 "cells": [
  {
   "cell_type": "markdown",
   "metadata": {},
   "source": [
    "# COGS 108 - Determining The Connection Between Murder and Other Crimes \n link to video: https://youtu.be/vtjtkC4qPw0"
   ]
  },
  {
   "cell_type": "markdown",
   "metadata": {},
   "source": [
    "## Permissions\n",
    "\n",
    "Place an `X` in the appropriate bracket below to specify if you would like your group's project to be made available to the public. (Note that student names will be included (but PIDs will be scraped from any groups who include their PIDs).\n",
    "\n",
    "* [  ] YES - make available\n",
    "* [X] NO - keep private"
   ]
  },
  {
   "cell_type": "markdown",
   "metadata": {},
   "source": [
    "# Overview"
   ]
  },
  {
   "cell_type": "markdown",
   "metadata": {},
   "source": [
    "Our project aims to understand how different crime rates correlate with murder rates over cities in the United States. We have gathered the data from the FBI’s Uniform Crime Reporting Program, which displays the number of reportings for each crime. Since the data was originally untidy, we had to wrangle the data into multiple tidy datasets. Next, we created multiple line charts and bar charts to analyze the year by year data, and conducted an Ordinary Least Squares analysis test between murder and the different crime rates to determine the correlations. From our analysis, we gathered that some crimes do indeed have stronger correlations to murder rates than others. Aggravated assault and larceny theft have the highest correlations."
   ]
  },
  {
   "cell_type": "markdown",
   "metadata": {},
   "source": [
    "# Names\n",
    "\n",
    "- Issac Navarro\n",
    "- Kelly Nham\n",
    "- Aryan Safari\n",
    "- Albert Zhong"
   ]
  },
  {
   "cell_type": "markdown",
   "metadata": {},
   "source": [
    "<a id='research_question'></a>\n",
    "# Research Question"
   ]
  },
  {
   "cell_type": "markdown",
   "metadata": {},
   "source": [
    "Do the different crimes (robbery, assault, property crime, etc.) reported by the FBI have a correlation with the reported murder rates? If so, which criminal activities affect it the most?"
   ]
  },
  {
   "cell_type": "markdown",
   "metadata": {},
   "source": [
    "<a id='background'></a>\n",
    "\n",
    "## Background & Prior Work"
   ]
  },
  {
   "cell_type": "markdown",
   "metadata": {},
   "source": [
    "According to an article on fivethirtyeight from 2016[^Asher] that pulls from the crime statistics reported by the FBI, murder rates are on the rise, particularly in large cities. However, their analysis only included large cities with a population of 250k or more, and there was little in the way of why the murder rate increased. Furthermore, since the article was focused on murders in particular, there wasn't an analysis on the other crimes reported from the FBI. The natural question to that would then be, why is that the case? While there are some known correlations for higher rates of homicide, such as higher temperatures[^Ingraham], it is not as clear as to whether there are correlations between the rates of different crimes. For example, is there a stronger correlation between murder and armed robbery vs murder and larceny? Are there any with negative correlations? Does this change year by year? By using the full FBI dataset that includes all the reported crimes and all locations, and analyzing multiple consecutive years from 2015-2019, we hope to answer those questions. \n",
    "\n",
    "References (include links):\n",
    "[^Asher]: Asher, Jeff. (6 Oct 2016). A Handful Of Cities Are Driving 2016's Rise in Murders. *FiveThirtyEight*. https://fivethirtyeight.com/features/a-handful-of-cities-are-driving-2016s-rise-in-murders/ \n",
    "[^Ingraham]: Ingraham, Christopher. (16 July 2019). Two New Studies Warn That A Hotter World Will Be A More Violent One. *The Washington Post*. https://www.washingtonpost.com/business/2019/07/16/two-new-studies-warn-that-hotter-world-will-be-more-violent-one/"
   ]
  },
  {
   "cell_type": "markdown",
   "metadata": {},
   "source": [
    "# Hypothesis\n"
   ]
  },
  {
   "cell_type": "markdown",
   "metadata": {},
   "source": [
    "We hypothesize that crimes that are considered violent, such as rape, robbery, and aggravated assault, will have a higher correlation with murder rates than other reported crimes. Since murder is also considered a violent crime, we expect there to be a better correlation between crimes considered violent (rape, robbery, aggravated assault, and murder). "
   ]
  },
  {
   "cell_type": "markdown",
   "metadata": {},
   "source": [
    "# Datasets"
   ]
  },
  {
   "cell_type": "markdown",
   "metadata": {},
   "source": [
    " - Dataset Name: Crime in the United States (2015)\n",
    " - Link to dataset: https://ucr.fbi.gov/crime-in-the-u.s/2015/crime-in-the-u.s.-2015/tables/table-6\n",
    " - Number of Observations: 561\n",
    "\n",
    "\n",
    " - Dataset Name: Crime in the United States (2016)\n",
    " - Link to dataset: https://ucr.fbi.gov/crime-in-the-u.s/2016/crime-in-the-u.s.-2016/tables/table-4\n",
    " - Number of Observations: 573\n",
    "\n",
    "\n",
    " - Dataset Name: Crime in the United States (2017)\n",
    " - Link to dataset: https://ucr.fbi.gov/crime-in-the-u.s/2017/crime-in-the-u.s.-2017/topic-pages/tables/table-6\n",
    " - Number of Observations: 596\n",
    "\n",
    "\n",
    " - Dataset Name: Crime in the United States (2018)\n",
    " - Link to dataset: https://ucr.fbi.gov/crime-in-the-u.s/2018/crime-in-the-u.s.-2018/topic-pages/tables/table-6\n",
    " - Number of Observations: 574\n",
    "\n",
    "\n",
    " - Dataset Name: Crime in the United States (2019)\n",
    " - Link to dataset: https://ucr.fbi.gov/crime-in-the-u.s/2019/crime-in-the-u.s.-2019/topic-pages/tables/table-6\n",
    " - Number of Observations: 495\n",
    "\n",
    "Dataset Description: The data consists of provided reports on crimes known to the police. The dataset includes the number of reports for different crimes (murder, rape, robbery, aggravated assault, property crime, burglary, larceny theft, and motor vehicle theft) per city in the United States, along with the city’s population.\n",
    "\n",
    "All the datasets are the same but from different years, and therefore will have the same dataset description.\n",
    "\n",
    "We combined these five datasets to look the crime rates over the course of five years (2015-2019). Having the data from 5 different years helps determine whether there is a correlation between murder rate and other crimes."
   ]
  },
  {
   "cell_type": "markdown",
   "metadata": {},
   "source": [
    "# Setup"
   ]
  },
  {
   "cell_type": "code",
   "execution_count": 1,
   "metadata": {},
   "outputs": [],
   "source": [
    "import pandas as pd\n",
    "import seaborn as sns\n",
    "import numpy as np\n",
    "import patsy\n",
    "import statsmodels.api as sm\n",
    "import matplotlib as mpl\n",
    "import matplotlib.pyplot as plt\n",
    "import matplotlib.style as style\n",
    "import statsmodels.formula.api as smf\n",
    "import scipy.stats as stats\n",
    "from scipy.stats import ttest_ind, chisquare, normaltest"
   ]
  },
  {
   "cell_type": "markdown",
   "metadata": {},
   "source": [
    "# Data Cleaning"
   ]
  },
  {
   "cell_type": "markdown",
   "metadata": {},
   "source": [
    "The raw data requires a hefty amount of wrangling due to the fact that the raw data is incredibly untidy (as seen in the first cell below). For starters, the Metropolitan Statistical Area (MSA) is always listed on one line with the next few lines being NaNs since it was made for humans to see and understand that the NaNs were meant to still correspond to the previously listed MSA. To further throw a wrench in things, many of the lines following each MSA aren't even data, such as the line after each one that says which counties are included in the MSA. Next, the columns are basically all unnamed because the actual names for them are all in row 2 (and overall rows 0-2 are basically just gibberish). Furthermore, they list the murders for each city in the MSA, but only list the rate per 100k inhabitants for the whole MSA. Finally, there were many different crimes listed but the one we are focusing on are murder rates. Thus, to wrangle all the data for each year, I had to drop many of the columns and rows, so that it is only the murder rates per city and per 100k inhabitants in each MSA, as well as the population of each city and MSA. To finish up the wrangling, I split up each year into two datasets: one for each city's murders and one for each MSA's murder rate per 100k inhabitants."
   ]
  },
  {
   "cell_type": "code",
   "execution_count": 2,
   "metadata": {},
   "outputs": [
    {
     "data": {
      "text/html": [
       "<div>\n",
       "<style scoped>\n",
       "    .dataframe tbody tr th:only-of-type {\n",
       "        vertical-align: middle;\n",
       "    }\n",
       "\n",
       "    .dataframe tbody tr th {\n",
       "        vertical-align: top;\n",
       "    }\n",
       "\n",
       "    .dataframe thead th {\n",
       "        text-align: right;\n",
       "    }\n",
       "</style>\n",
       "<table border=\"1\" class=\"dataframe\">\n",
       "  <thead>\n",
       "    <tr style=\"text-align: right;\">\n",
       "      <th></th>\n",
       "      <th>Table 6</th>\n",
       "      <th>Unnamed: 1</th>\n",
       "      <th>Unnamed: 2</th>\n",
       "      <th>Unnamed: 3</th>\n",
       "      <th>Unnamed: 4</th>\n",
       "      <th>Unnamed: 5</th>\n",
       "      <th>Unnamed: 6</th>\n",
       "      <th>Unnamed: 7</th>\n",
       "      <th>Unnamed: 8</th>\n",
       "      <th>Unnamed: 9</th>\n",
       "      <th>Unnamed: 10</th>\n",
       "      <th>Unnamed: 11</th>\n",
       "    </tr>\n",
       "  </thead>\n",
       "  <tbody>\n",
       "    <tr>\n",
       "      <th>0</th>\n",
       "      <td>Crime in the United States</td>\n",
       "      <td>NaN</td>\n",
       "      <td>NaN</td>\n",
       "      <td>NaN</td>\n",
       "      <td>NaN</td>\n",
       "      <td>NaN</td>\n",
       "      <td>NaN</td>\n",
       "      <td>NaN</td>\n",
       "      <td>NaN</td>\n",
       "      <td>NaN</td>\n",
       "      <td>NaN</td>\n",
       "      <td>NaN</td>\n",
       "    </tr>\n",
       "    <tr>\n",
       "      <th>1</th>\n",
       "      <td>by Metropolitan Statistical Area, 2015</td>\n",
       "      <td>NaN</td>\n",
       "      <td>NaN</td>\n",
       "      <td>NaN</td>\n",
       "      <td>NaN</td>\n",
       "      <td>NaN</td>\n",
       "      <td>NaN</td>\n",
       "      <td>NaN</td>\n",
       "      <td>NaN</td>\n",
       "      <td>NaN</td>\n",
       "      <td>NaN</td>\n",
       "      <td>NaN</td>\n",
       "    </tr>\n",
       "    <tr>\n",
       "      <th>2</th>\n",
       "      <td>Metropolitan Statistical Area</td>\n",
       "      <td>Counties/principal cities</td>\n",
       "      <td>Population</td>\n",
       "      <td>Violent\\ncrime</td>\n",
       "      <td>Murder and\\nnonnegligent\\nmanslaughter</td>\n",
       "      <td>Rape1</td>\n",
       "      <td>Robbery</td>\n",
       "      <td>Aggravated\\nassault</td>\n",
       "      <td>Property\\ncrime</td>\n",
       "      <td>Burglary</td>\n",
       "      <td>Larceny-\\ntheft</td>\n",
       "      <td>Motor\\nvehicle\\ntheft</td>\n",
       "    </tr>\n",
       "    <tr>\n",
       "      <th>3</th>\n",
       "      <td>Abilene, TX M.S.A.</td>\n",
       "      <td>NaN</td>\n",
       "      <td>169,713</td>\n",
       "      <td></td>\n",
       "      <td>NaN</td>\n",
       "      <td>NaN</td>\n",
       "      <td>NaN</td>\n",
       "      <td>NaN</td>\n",
       "      <td></td>\n",
       "      <td>NaN</td>\n",
       "      <td>NaN</td>\n",
       "      <td>NaN</td>\n",
       "    </tr>\n",
       "    <tr>\n",
       "      <th>4</th>\n",
       "      <td>NaN</td>\n",
       "      <td>Includes Callahan, Jones, and Taylor Counties</td>\n",
       "      <td>NaN</td>\n",
       "      <td>NaN</td>\n",
       "      <td>NaN</td>\n",
       "      <td>NaN</td>\n",
       "      <td>NaN</td>\n",
       "      <td>NaN</td>\n",
       "      <td>NaN</td>\n",
       "      <td>NaN</td>\n",
       "      <td>NaN</td>\n",
       "      <td>NaN</td>\n",
       "    </tr>\n",
       "    <tr>\n",
       "      <th>5</th>\n",
       "      <td>NaN</td>\n",
       "      <td>City of Abilene</td>\n",
       "      <td>121,764</td>\n",
       "      <td>613</td>\n",
       "      <td>7</td>\n",
       "      <td>84</td>\n",
       "      <td>128</td>\n",
       "      <td>394</td>\n",
       "      <td>5,354</td>\n",
       "      <td>1,168</td>\n",
       "      <td>3,798</td>\n",
       "      <td>388</td>\n",
       "    </tr>\n",
       "    <tr>\n",
       "      <th>6</th>\n",
       "      <td>NaN</td>\n",
       "      <td>Total area actually reporting</td>\n",
       "      <td>100.0%</td>\n",
       "      <td>700</td>\n",
       "      <td>9</td>\n",
       "      <td>95</td>\n",
       "      <td>133</td>\n",
       "      <td>463</td>\n",
       "      <td>6,125</td>\n",
       "      <td>1,446</td>\n",
       "      <td>4,232</td>\n",
       "      <td>447</td>\n",
       "    </tr>\n",
       "    <tr>\n",
       "      <th>7</th>\n",
       "      <td>NaN</td>\n",
       "      <td>Rate per 100,000 inhabitants</td>\n",
       "      <td>NaN</td>\n",
       "      <td>412.5</td>\n",
       "      <td>5.3</td>\n",
       "      <td>56.0</td>\n",
       "      <td>78.4</td>\n",
       "      <td>272.8</td>\n",
       "      <td>3,609.0</td>\n",
       "      <td>852.0</td>\n",
       "      <td>2,493.6</td>\n",
       "      <td>263.4</td>\n",
       "    </tr>\n",
       "    <tr>\n",
       "      <th>8</th>\n",
       "      <td>Akron, OH M.S.A.</td>\n",
       "      <td>NaN</td>\n",
       "      <td>704,320</td>\n",
       "      <td></td>\n",
       "      <td>NaN</td>\n",
       "      <td>NaN</td>\n",
       "      <td>NaN</td>\n",
       "      <td>NaN</td>\n",
       "      <td></td>\n",
       "      <td>NaN</td>\n",
       "      <td>NaN</td>\n",
       "      <td>NaN</td>\n",
       "    </tr>\n",
       "    <tr>\n",
       "      <th>9</th>\n",
       "      <td>NaN</td>\n",
       "      <td>Includes Portage and Summit Counties</td>\n",
       "      <td>NaN</td>\n",
       "      <td>NaN</td>\n",
       "      <td>NaN</td>\n",
       "      <td>NaN</td>\n",
       "      <td>NaN</td>\n",
       "      <td>NaN</td>\n",
       "      <td>NaN</td>\n",
       "      <td>NaN</td>\n",
       "      <td>NaN</td>\n",
       "      <td>NaN</td>\n",
       "    </tr>\n",
       "    <tr>\n",
       "      <th>10</th>\n",
       "      <td>NaN</td>\n",
       "      <td>City of Akron</td>\n",
       "      <td>197,587</td>\n",
       "      <td>1,168</td>\n",
       "      <td>28</td>\n",
       "      <td>166</td>\n",
       "      <td>402</td>\n",
       "      <td>572</td>\n",
       "      <td>8,027</td>\n",
       "      <td>2,426</td>\n",
       "      <td>5,002</td>\n",
       "      <td>599</td>\n",
       "    </tr>\n",
       "    <tr>\n",
       "      <th>11</th>\n",
       "      <td>NaN</td>\n",
       "      <td>Total area actually reporting</td>\n",
       "      <td>91.9%</td>\n",
       "      <td>1,588</td>\n",
       "      <td>35</td>\n",
       "      <td>253</td>\n",
       "      <td>499</td>\n",
       "      <td>801</td>\n",
       "      <td>16,668</td>\n",
       "      <td>3,826</td>\n",
       "      <td>12,014</td>\n",
       "      <td>828</td>\n",
       "    </tr>\n",
       "    <tr>\n",
       "      <th>12</th>\n",
       "      <td>NaN</td>\n",
       "      <td>Estimated total</td>\n",
       "      <td>100.0%</td>\n",
       "      <td>1,679</td>\n",
       "      <td>36</td>\n",
       "      <td>269</td>\n",
       "      <td>530</td>\n",
       "      <td>844</td>\n",
       "      <td>17,977</td>\n",
       "      <td>4,052</td>\n",
       "      <td>13,051</td>\n",
       "      <td>874</td>\n",
       "    </tr>\n",
       "    <tr>\n",
       "      <th>13</th>\n",
       "      <td>NaN</td>\n",
       "      <td>Rate per 100,000 inhabitants</td>\n",
       "      <td>NaN</td>\n",
       "      <td>238.4</td>\n",
       "      <td>5.1</td>\n",
       "      <td>38.2</td>\n",
       "      <td>75.2</td>\n",
       "      <td>119.8</td>\n",
       "      <td>2,552.4</td>\n",
       "      <td>575.3</td>\n",
       "      <td>1,853.0</td>\n",
       "      <td>124.1</td>\n",
       "    </tr>\n",
       "    <tr>\n",
       "      <th>14</th>\n",
       "      <td>Albany, GA M.S.A.</td>\n",
       "      <td>NaN</td>\n",
       "      <td>154,516</td>\n",
       "      <td></td>\n",
       "      <td>NaN</td>\n",
       "      <td>NaN</td>\n",
       "      <td>NaN</td>\n",
       "      <td>NaN</td>\n",
       "      <td></td>\n",
       "      <td>NaN</td>\n",
       "      <td>NaN</td>\n",
       "      <td>NaN</td>\n",
       "    </tr>\n",
       "  </tbody>\n",
       "</table>\n",
       "</div>"
      ],
      "text/plain": [
       "                                   Table 6  \\\n",
       "0               Crime in the United States   \n",
       "1   by Metropolitan Statistical Area, 2015   \n",
       "2            Metropolitan Statistical Area   \n",
       "3                       Abilene, TX M.S.A.   \n",
       "4                                      NaN   \n",
       "5                                      NaN   \n",
       "6                                      NaN   \n",
       "7                                      NaN   \n",
       "8                         Akron, OH M.S.A.   \n",
       "9                                      NaN   \n",
       "10                                     NaN   \n",
       "11                                     NaN   \n",
       "12                                     NaN   \n",
       "13                                     NaN   \n",
       "14                       Albany, GA M.S.A.   \n",
       "\n",
       "                                       Unnamed: 1  Unnamed: 2      Unnamed: 3  \\\n",
       "0                                             NaN         NaN             NaN   \n",
       "1                                             NaN         NaN             NaN   \n",
       "2                       Counties/principal cities  Population  Violent\\ncrime   \n",
       "3                                             NaN     169,713                   \n",
       "4   Includes Callahan, Jones, and Taylor Counties         NaN             NaN   \n",
       "5                                 City of Abilene     121,764            613    \n",
       "6                   Total area actually reporting      100.0%            700    \n",
       "7                    Rate per 100,000 inhabitants         NaN           412.5   \n",
       "8                                             NaN     704,320                   \n",
       "9            Includes Portage and Summit Counties         NaN             NaN   \n",
       "10                                  City of Akron     197,587          1,168    \n",
       "11                  Total area actually reporting       91.9%          1,588    \n",
       "12                                Estimated total      100.0%          1,679    \n",
       "13                   Rate per 100,000 inhabitants         NaN           238.4   \n",
       "14                                            NaN     154,516                   \n",
       "\n",
       "                                Unnamed: 4 Unnamed: 5 Unnamed: 6  \\\n",
       "0                                      NaN        NaN        NaN   \n",
       "1                                      NaN        NaN        NaN   \n",
       "2   Murder and\\nnonnegligent\\nmanslaughter      Rape1    Robbery   \n",
       "3                                      NaN        NaN        NaN   \n",
       "4                                      NaN        NaN        NaN   \n",
       "5                                       7         84        128    \n",
       "6                                       9         95        133    \n",
       "7                                      5.3       56.0       78.4   \n",
       "8                                      NaN        NaN        NaN   \n",
       "9                                      NaN        NaN        NaN   \n",
       "10                                     28        166        402    \n",
       "11                                     35        253        499    \n",
       "12                                     36        269        530    \n",
       "13                                     5.1       38.2       75.2   \n",
       "14                                     NaN        NaN        NaN   \n",
       "\n",
       "             Unnamed: 7       Unnamed: 8 Unnamed: 9      Unnamed: 10  \\\n",
       "0                   NaN              NaN        NaN              NaN   \n",
       "1                   NaN              NaN        NaN              NaN   \n",
       "2   Aggravated\\nassault  Property\\ncrime   Burglary  Larceny-\\ntheft   \n",
       "3                   NaN                         NaN              NaN   \n",
       "4                   NaN              NaN        NaN              NaN   \n",
       "5                  394            5,354      1,168            3,798    \n",
       "6                  463            6,125      1,446            4,232    \n",
       "7                 272.8          3,609.0      852.0          2,493.6   \n",
       "8                   NaN                         NaN              NaN   \n",
       "9                   NaN              NaN        NaN              NaN   \n",
       "10                 572            8,027      2,426            5,002    \n",
       "11                 801           16,668      3,826           12,014    \n",
       "12                 844           17,977      4,052           13,051    \n",
       "13                119.8          2,552.4      575.3          1,853.0   \n",
       "14                  NaN                         NaN              NaN   \n",
       "\n",
       "              Unnamed: 11  \n",
       "0                     NaN  \n",
       "1                     NaN  \n",
       "2   Motor\\nvehicle\\ntheft  \n",
       "3                     NaN  \n",
       "4                     NaN  \n",
       "5                    388   \n",
       "6                    447   \n",
       "7                   263.4  \n",
       "8                     NaN  \n",
       "9                     NaN  \n",
       "10                   599   \n",
       "11                   828   \n",
       "12                   874   \n",
       "13                  124.1  \n",
       "14                    NaN  "
      ]
     },
     "execution_count": 2,
     "metadata": {},
     "output_type": "execute_result"
    }
   ],
   "source": [
    "untidyShowcase = pd.read_csv('https://raw.githubusercontent.com/azhong19/COGS108_Repo/main/2015.xls%20-%2015tbl06.csv')\n",
    "untidyShowcase.iloc[0:15]"
   ]
  },
  {
   "cell_type": "code",
   "execution_count": 3,
   "metadata": {},
   "outputs": [
    {
     "data": {
      "text/html": [
       "<div>\n",
       "<style scoped>\n",
       "    .dataframe tbody tr th:only-of-type {\n",
       "        vertical-align: middle;\n",
       "    }\n",
       "\n",
       "    .dataframe tbody tr th {\n",
       "        vertical-align: top;\n",
       "    }\n",
       "\n",
       "    .dataframe thead th {\n",
       "        text-align: right;\n",
       "    }\n",
       "</style>\n",
       "<table border=\"1\" class=\"dataframe\">\n",
       "  <thead>\n",
       "    <tr style=\"text-align: right;\">\n",
       "      <th></th>\n",
       "      <th>City</th>\n",
       "      <th>Population</th>\n",
       "      <th>Murders</th>\n",
       "      <th>Rape</th>\n",
       "      <th>Robbery</th>\n",
       "      <th>Aggravated_Assault</th>\n",
       "      <th>Property_Crime</th>\n",
       "      <th>Burglary</th>\n",
       "      <th>Larceny_Theft</th>\n",
       "      <th>Motor_Vehicle_Theft</th>\n",
       "    </tr>\n",
       "  </thead>\n",
       "  <tbody>\n",
       "    <tr>\n",
       "      <th>0</th>\n",
       "      <td>City of Abilene</td>\n",
       "      <td>121,764</td>\n",
       "      <td>7</td>\n",
       "      <td>84</td>\n",
       "      <td>128</td>\n",
       "      <td>394</td>\n",
       "      <td>5,354</td>\n",
       "      <td>1,168</td>\n",
       "      <td>3,798</td>\n",
       "      <td>388</td>\n",
       "    </tr>\n",
       "    <tr>\n",
       "      <th>1</th>\n",
       "      <td>City of Akron</td>\n",
       "      <td>197,587</td>\n",
       "      <td>28</td>\n",
       "      <td>166</td>\n",
       "      <td>402</td>\n",
       "      <td>572</td>\n",
       "      <td>8,027</td>\n",
       "      <td>2,426</td>\n",
       "      <td>5,002</td>\n",
       "      <td>599</td>\n",
       "    </tr>\n",
       "    <tr>\n",
       "      <th>2</th>\n",
       "      <td>City of Albany</td>\n",
       "      <td>75,357</td>\n",
       "      <td>10</td>\n",
       "      <td>35</td>\n",
       "      <td>201</td>\n",
       "      <td>554</td>\n",
       "      <td>3,902</td>\n",
       "      <td>1,137</td>\n",
       "      <td>2,616</td>\n",
       "      <td>149</td>\n",
       "    </tr>\n",
       "    <tr>\n",
       "      <th>3</th>\n",
       "      <td>City of Albany</td>\n",
       "      <td>52,394</td>\n",
       "      <td>2</td>\n",
       "      <td>10</td>\n",
       "      <td>16</td>\n",
       "      <td>13</td>\n",
       "      <td>1,726</td>\n",
       "      <td>173</td>\n",
       "      <td>1,447</td>\n",
       "      <td>106</td>\n",
       "    </tr>\n",
       "    <tr>\n",
       "      <th>4</th>\n",
       "      <td>City of Albuquerque</td>\n",
       "      <td>559,721</td>\n",
       "      <td>43</td>\n",
       "      <td>404</td>\n",
       "      <td>1,686</td>\n",
       "      <td>3,273</td>\n",
       "      <td>33,993</td>\n",
       "      <td>5,996</td>\n",
       "      <td>22,818</td>\n",
       "      <td>5,179</td>\n",
       "    </tr>\n",
       "    <tr>\n",
       "      <th>...</th>\n",
       "      <td>...</td>\n",
       "      <td>...</td>\n",
       "      <td>...</td>\n",
       "      <td>...</td>\n",
       "      <td>...</td>\n",
       "      <td>...</td>\n",
       "      <td>...</td>\n",
       "      <td>...</td>\n",
       "      <td>...</td>\n",
       "      <td>...</td>\n",
       "    </tr>\n",
       "    <tr>\n",
       "      <th>556</th>\n",
       "      <td>City of Yakima</td>\n",
       "      <td>93,798</td>\n",
       "      <td>7</td>\n",
       "      <td>51</td>\n",
       "      <td>126</td>\n",
       "      <td>330</td>\n",
       "      <td>5,091</td>\n",
       "      <td>1,307</td>\n",
       "      <td>3,110</td>\n",
       "      <td>674</td>\n",
       "    </tr>\n",
       "    <tr>\n",
       "      <th>557</th>\n",
       "      <td>City of York</td>\n",
       "      <td>43,864</td>\n",
       "      <td>10</td>\n",
       "      <td>19</td>\n",
       "      <td>178</td>\n",
       "      <td>118</td>\n",
       "      <td>1,399</td>\n",
       "      <td>336</td>\n",
       "      <td>939</td>\n",
       "      <td>124</td>\n",
       "    </tr>\n",
       "    <tr>\n",
       "      <th>558</th>\n",
       "      <td>City of Hanover</td>\n",
       "      <td>15,494</td>\n",
       "      <td>0</td>\n",
       "      <td>3</td>\n",
       "      <td>6</td>\n",
       "      <td>15</td>\n",
       "      <td>453</td>\n",
       "      <td>27</td>\n",
       "      <td>419</td>\n",
       "      <td>7</td>\n",
       "    </tr>\n",
       "    <tr>\n",
       "      <th>559</th>\n",
       "      <td>City of Yuba City</td>\n",
       "      <td>65,974</td>\n",
       "      <td>0</td>\n",
       "      <td>28</td>\n",
       "      <td>66</td>\n",
       "      <td>122</td>\n",
       "      <td>1,792</td>\n",
       "      <td>429</td>\n",
       "      <td>1,160</td>\n",
       "      <td>203</td>\n",
       "    </tr>\n",
       "    <tr>\n",
       "      <th>560</th>\n",
       "      <td>City of Yuma</td>\n",
       "      <td>93,923</td>\n",
       "      <td>5</td>\n",
       "      <td>46</td>\n",
       "      <td>74</td>\n",
       "      <td>328</td>\n",
       "      <td>2,925</td>\n",
       "      <td>682</td>\n",
       "      <td>1,984</td>\n",
       "      <td>259</td>\n",
       "    </tr>\n",
       "  </tbody>\n",
       "</table>\n",
       "<p>561 rows × 10 columns</p>\n",
       "</div>"
      ],
      "text/plain": [
       "                    City Population Murders   Rape  Robbery  \\\n",
       "0        City of Abilene    121,764      7     84      128    \n",
       "1          City of Akron    197,587     28    166      402    \n",
       "2         City of Albany     75,357     10     35      201    \n",
       "3         City of Albany     52,394      2     10       16    \n",
       "4    City of Albuquerque    559,721     43    404    1,686    \n",
       "..                   ...        ...     ...    ...      ...   \n",
       "556       City of Yakima     93,798      7     51      126    \n",
       "557         City of York     43,864     10     19      178    \n",
       "558      City of Hanover     15,494      0      3        6    \n",
       "559    City of Yuba City     65,974      0     28       66    \n",
       "560         City of Yuma     93,923      5     46       74    \n",
       "\n",
       "    Aggravated_Assault Property_Crime Burglary Larceny_Theft  \\\n",
       "0                 394          5,354    1,168         3,798    \n",
       "1                 572          8,027    2,426         5,002    \n",
       "2                 554          3,902    1,137         2,616    \n",
       "3                  13          1,726      173         1,447    \n",
       "4               3,273         33,993    5,996        22,818    \n",
       "..                 ...            ...      ...           ...   \n",
       "556               330          5,091    1,307         3,110    \n",
       "557               118          1,399      336           939    \n",
       "558                15            453       27           419    \n",
       "559               122          1,792      429         1,160    \n",
       "560               328          2,925      682         1,984    \n",
       "\n",
       "    Motor_Vehicle_Theft  \n",
       "0                  388   \n",
       "1                  599   \n",
       "2                  149   \n",
       "3                  106   \n",
       "4                5,179   \n",
       "..                  ...  \n",
       "556                674   \n",
       "557                124   \n",
       "558                  7   \n",
       "559                203   \n",
       "560                259   \n",
       "\n",
       "[561 rows x 10 columns]"
      ]
     },
     "execution_count": 3,
     "metadata": {},
     "output_type": "execute_result"
    }
   ],
   "source": [
    "#initial csv reading and wrangling (2015)\n",
    "df2015 = pd.read_csv('https://raw.githubusercontent.com/azhong19/COGS108_Repo/main/2015.xls%20-%2015tbl06.csv')\n",
    "df2015 = df2015.drop(df2015.columns[[3]], axis = 1)\n",
    "df2015.columns = ['Area', 'City', 'Population', 'Murders', 'Rape', 'Robbery', 'Aggravated_Assault', 'Property_Crime', 'Burglary', 'Larceny_Theft','Motor_Vehicle_Theft']\n",
    "df2015 = df2015[(df2015['City'].str.contains(\"City of\")) | (df2015['City'].str.contains(\"Rate per\")) | (df2015['Area'].str.contains(\"M.S.A\")) | (df2015['Area'].str.contains(\"M.D\"))]\n",
    "df2015 = df2015.reset_index(drop=True)\n",
    "\n",
    "#creating a joined dataset for Metropolitan Statistical Area and Murders per 100k inhabitants\n",
    "area2015 = df2015[['Area', 'Population']]\n",
    "area2015 = area2015.dropna().reset_index(drop=True)\n",
    "rate2015 = df2015[['City', 'Murders']]\n",
    "rate2015 = rate2015[(rate2015['City'].str.contains(\"Rate per\")) | (rate2015['City'].str.contains(\"Rate per\"))] #for some reason I have to have the or statement here or it doesn't work, I know it looks incredibly jank but I couldn't think of a better way to do it\n",
    "rate2015 = rate2015.reset_index(drop=True)\n",
    "joined2015 = area2015.join(rate2015, lsuffix='Area', rsuffix='City')\n",
    "joined2015 = joined2015.drop(joined2015.columns[[2]], axis = 1)\n",
    "joined2015.columns = ['Area', 'Population', 'Rate (per 100k inhabitants)']\n",
    "\n",
    "#creating a dataset for murders per city\n",
    "city2015 = df2015[['City', 'Population', 'Murders', 'Rape', 'Robbery', 'Aggravated_Assault', 'Property_Crime', 'Burglary', 'Larceny_Theft', 'Motor_Vehicle_Theft' ]]\n",
    "city2015 = city2015[(city2015['City'].str.contains(\"City of\")) | (city2015['City'].str.contains(\"City of\"))] #again have to have the or statement here, this is gonna make me lose what little sanity I had left\n",
    "city2015 = city2015.reset_index(drop=True)\n",
    "city2015"
   ]
  },
  {
   "cell_type": "markdown",
   "metadata": {},
   "source": [
    "(The other years will have similar looking tables and thus we have left it out of this report. However, the charts can be seen in our EDA checkpoint if you would like to see them!)"
   ]
  },
  {
   "cell_type": "code",
   "execution_count": 4,
   "metadata": {},
   "outputs": [],
   "source": [
    "#initial csv reading and wrangling (2016)\n",
    "df2016 = pd.read_csv('https://raw.githubusercontent.com/azhong19/COGS108_Repo/main/2016.xls%20-%2016tbl04.csv')\n",
    "df2016 = df2016.drop(df2016.columns[[3]], axis = 1)\n",
    "df2016.columns = ['Area', 'City', 'Population', 'Murders', 'Rape', 'Robbery', 'Aggravated_Assault', 'Property_Crime', 'Burglary', 'Larceny_Theft','Motor_Vehicle_Theft']\n",
    "df2016 = df2016[(df2016['City'].str.contains(\"City of\")) | (df2016['City'].str.contains(\"Rate per\")) | (df2016['Area'].str.contains(\"M.S.A\")) | (df2016['Area'].str.contains(\"M.D\"))]\n",
    "df2016 = df2016.reset_index(drop=True)\n",
    "\n",
    "#creating a joined dataset for Metropolitan Statistical Area and Murders per 100k inhabitants\n",
    "area2016 = df2016[['Area', 'Population']]\n",
    "area2016 = area2016.dropna().reset_index(drop=True)\n",
    "rate2016 = df2016[['City', 'Murders']]\n",
    "rate2016 = rate2016[(rate2016['City'].str.contains(\"Rate per\")) | (rate2016['City'].str.contains(\"Rate per\"))] #for some reason I have to have the or statement here or it doesn't work, I know it looks incredibly jank but I couldn't think of a better way to do it\n",
    "rate2016 = rate2016.reset_index(drop=True)\n",
    "joined2016 = area2016.join(rate2016, lsuffix='Area', rsuffix='City')\n",
    "joined2016 = joined2016.drop(joined2016.columns[[2]], axis = 1)\n",
    "joined2016.columns = ['Area', 'Population', 'Rate (per 100k inhabitants)']\n",
    "\n",
    "#creating a dataset for murders per city\n",
    "city2016 = df2016[['City', 'Population', 'Murders', 'Rape', 'Robbery', 'Aggravated_Assault', 'Property_Crime', 'Burglary', 'Larceny_Theft', 'Motor_Vehicle_Theft' ]]\n",
    "city2016 = city2016[(city2016['City'].str.contains(\"City of\")) | (city2016['City'].str.contains(\"City of\"))] #again have to have the or statement here, this is gonna make me lose what little sanity I had left\n",
    "city2016 = city2016.reset_index(drop=True)\n",
    "#city2016"
   ]
  },
  {
   "cell_type": "code",
   "execution_count": 5,
   "metadata": {},
   "outputs": [],
   "source": [
    "#initial csv reading and wrangling (2017)\n",
    "df2017 = pd.read_csv('https://raw.githubusercontent.com/azhong19/COGS108_Repo/main/2017%20crime.csv')\n",
    "df2017 = df2017.drop(df2017.columns[[3]], axis = 1)\n",
    "df2017.columns = ['Area', 'City', 'Population', 'Murders', 'Rape', 'Robbery', 'Aggravated_Assault', 'Property_Crime', 'Burglary', 'Larceny_Theft','Motor_Vehicle_Theft']\n",
    "df2017 = df2017[(df2017['City'].str.contains(\"City of\")) | (df2017['City'].str.contains(\"Rate per\")) | (df2017['Area'].str.contains(\"M.S.A\")) | (df2017['Area'].str.contains(\"M.D\"))]\n",
    "df2017 = df2017.reset_index(drop=True)\n",
    "\n",
    "#creating a joined dataset for Metropolitan Statistical Area and Murders per 100k inhabitants\n",
    "area2017 = df2017[['Area', 'Population']]\n",
    "area2017 = area2017.dropna().reset_index(drop=True)\n",
    "rate2017 = df2017[['City', 'Murders']]\n",
    "rate2017 = rate2017[(rate2017['City'].str.contains(\"Rate per\")) | (rate2017['City'].str.contains(\"Rate per\"))] #for some reason I have to have the or statement here or it doesn't work, I know it looks incredibly jank but I couldn't think of a better way to do it\n",
    "rate2017 = rate2017.reset_index(drop=True)\n",
    "joined2017 = area2017.join(rate2017, lsuffix='Area', rsuffix='City')\n",
    "joined2017 = joined2017.drop(joined2017.columns[[2]], axis = 1)\n",
    "joined2017.columns = ['Area', 'Population', 'Rate (per 100k inhabitants)']\n",
    "\n",
    "#creating a dataset for murders per city\n",
    "city2017 = df2017[['City', 'Population', 'Murders', 'Rape', 'Robbery', 'Aggravated_Assault', 'Property_Crime', 'Burglary', 'Larceny_Theft', 'Motor_Vehicle_Theft' ]]\n",
    "city2017 = city2017[(city2017['City'].str.contains(\"City of\")) | (city2017['City'].str.contains(\"City of\"))] #again have to have the or statement here, this is gonna make me lose what little sanity I had left\n",
    "city2017 = city2017.reset_index(drop=True)\n",
    "#city2017"
   ]
  },
  {
   "cell_type": "code",
   "execution_count": 6,
   "metadata": {},
   "outputs": [],
   "source": [
    "#initial csv reading and wrangling (2018)\n",
    "df2018 = pd.read_csv('https://raw.githubusercontent.com/azhong19/COGS108_Repo/main/2018.xls%20-%2018tbl06.csv')\n",
    "df2018 = df2018.drop(df2018.columns[[3]], axis = 1)\n",
    "df2018.columns = ['Area', 'City', 'Population', 'Murders', 'Rape', 'Robbery', 'Aggravated_Assault', 'Property_Crime', 'Burglary', 'Larceny_Theft','Motor_Vehicle_Theft']\n",
    "df2018 = df2018[(df2018['City'].str.contains(\"City of\")) | (df2018['City'].str.contains(\"Rate per\")) | (df2018['Area'].str.contains(\"M.S.A\")) | (df2018['Area'].str.contains(\"M.D\"))]\n",
    "df2018 = df2018.reset_index(drop=True)\n",
    "\n",
    "#creating a joined dataset for Metropolitan Statistical Area and Murders per 100k inhabitants\n",
    "area2018 = df2018[['Area', 'Population']]\n",
    "area2018 = area2018.dropna().reset_index(drop=True)\n",
    "rate2018 = df2018[['City', 'Murders']]\n",
    "rate2018 = rate2018[(rate2018['City'].str.contains(\"Rate per\")) | (rate2018['City'].str.contains(\"Rate per\"))] #for some reason I have to have the or statement here or it doesn't work, I know it looks incredibly jank but I couldn't think of a better way to do it\n",
    "rate2018 = rate2018.reset_index(drop=True)\n",
    "joined2018 = area2018.join(rate2018, lsuffix='Area', rsuffix='City')\n",
    "joined2018 = joined2018.drop(joined2018.columns[[2]], axis = 1)\n",
    "joined2018.columns = ['Area', 'Population', 'Rate (per 100k inhabitants)']\n",
    "\n",
    "#creating a dataset for murders per city\n",
    "city2018 = df2018[['City', 'Population', 'Murders', 'Rape', 'Robbery', 'Aggravated_Assault', 'Property_Crime', 'Burglary', 'Larceny_Theft', 'Motor_Vehicle_Theft' ]]\n",
    "city2018 = city2018[(city2018['City'].str.contains(\"City of\")) | (city2018['City'].str.contains(\"City of\"))] #again have to have the or statement here, this is gonna make me lose what little sanity I had left\n",
    "city2018 = city2018.reset_index(drop=True)\n",
    "#city2018"
   ]
  },
  {
   "cell_type": "code",
   "execution_count": 7,
   "metadata": {},
   "outputs": [],
   "source": [
    "#initial csv reading and wrangling (2019)\n",
    "df2019 = pd.read_csv('https://raw.githubusercontent.com/azhong19/COGS108_Repo/main/2019.xls%20-%2019tbl06.csv')\n",
    "df2019 = df2019.drop(df2019.columns[[3]], axis = 1)\n",
    "df2019.columns = ['Area', 'City', 'Population', 'Murders', 'Rape', 'Robbery', 'Aggravated_Assault', 'Property_Crime', 'Burglary', 'Larceny_Theft','Motor_Vehicle_Theft']\n",
    "df2019 = df2019[(df2019['City'].str.contains(\"City of\")) | (df2019['City'].str.contains(\"Rate per\")) | (df2019['Area'].str.contains(\"M.S.A\")) | (df2019['Area'].str.contains(\"M.D\"))]\n",
    "df2019 = df2019.reset_index(drop=True)\n",
    "\n",
    "#creating a joined dataset for Metropolitan Statistical Area and Murders per 100k inhabitants\n",
    "area2019 = df2019[['Area', 'Population']]\n",
    "area2019 = area2019.dropna().reset_index(drop=True)\n",
    "rate2019 = df2019[['City', 'Murders']]\n",
    "rate2019 = rate2019[(rate2019['City'].str.contains(\"Rate per\")) | (rate2019['City'].str.contains(\"Rate per\"))] #for some reason I have to have the or statement here or it doesn't work, I know it looks incredibly jank but I couldn't think of a better way to do it\n",
    "rate2019 = rate2019.reset_index(drop=True)\n",
    "joined2019 = area2019.join(rate2018, lsuffix='Area', rsuffix='City')\n",
    "joined2019 = joined2019.drop(joined2019.columns[[2]], axis = 1)\n",
    "joined2019.columns = ['Area', 'Population', 'Rate (per 100k inhabitants)']\n",
    "\n",
    "#creating a dataset for murders per city\n",
    "city2019 = df2019[['City', 'Population', 'Murders', 'Rape', 'Robbery', 'Aggravated_Assault', 'Property_Crime', 'Burglary', 'Larceny_Theft', 'Motor_Vehicle_Theft' ]]\n",
    "city2019 = city2019[(city2019['City'].str.contains(\"City of\")) | (city2019['City'].str.contains(\"City of\"))] #again have to have the or statement here, this is gonna make me lose what little sanity I had left\n",
    "city2019 = city2019.reset_index(drop=True)\n",
    "#city2019"
   ]
  },
  {
   "cell_type": "markdown",
   "metadata": {},
   "source": [
    "Now that the data is all wrangled we can finally clean the data. The main things that need to be done are removing the random numbers in the city/MSA names as well as changing the population be an int instead of an object."
   ]
  },
  {
   "cell_type": "code",
   "execution_count": 8,
   "metadata": {},
   "outputs": [
    {
     "data": {
      "text/html": [
       "<div>\n",
       "<style scoped>\n",
       "    .dataframe tbody tr th:only-of-type {\n",
       "        vertical-align: middle;\n",
       "    }\n",
       "\n",
       "    .dataframe tbody tr th {\n",
       "        vertical-align: top;\n",
       "    }\n",
       "\n",
       "    .dataframe thead th {\n",
       "        text-align: right;\n",
       "    }\n",
       "</style>\n",
       "<table border=\"1\" class=\"dataframe\">\n",
       "  <thead>\n",
       "    <tr style=\"text-align: right;\">\n",
       "      <th></th>\n",
       "      <th>City</th>\n",
       "      <th>Population</th>\n",
       "      <th>Murders</th>\n",
       "      <th>Rape</th>\n",
       "      <th>Robbery</th>\n",
       "      <th>Aggravated_Assault</th>\n",
       "      <th>Property_Crime</th>\n",
       "      <th>Burglary</th>\n",
       "      <th>Larceny_Theft</th>\n",
       "      <th>Motor_Vehicle_Theft</th>\n",
       "    </tr>\n",
       "  </thead>\n",
       "  <tbody>\n",
       "    <tr>\n",
       "      <th>0</th>\n",
       "      <td>City of Abilene</td>\n",
       "      <td>121,764</td>\n",
       "      <td>7</td>\n",
       "      <td>84</td>\n",
       "      <td>128</td>\n",
       "      <td>394</td>\n",
       "      <td>5,354</td>\n",
       "      <td>1,168</td>\n",
       "      <td>3,798</td>\n",
       "      <td>388</td>\n",
       "    </tr>\n",
       "    <tr>\n",
       "      <th>1</th>\n",
       "      <td>City of Akron</td>\n",
       "      <td>197,587</td>\n",
       "      <td>28</td>\n",
       "      <td>166</td>\n",
       "      <td>402</td>\n",
       "      <td>572</td>\n",
       "      <td>8,027</td>\n",
       "      <td>2,426</td>\n",
       "      <td>5,002</td>\n",
       "      <td>599</td>\n",
       "    </tr>\n",
       "    <tr>\n",
       "      <th>2</th>\n",
       "      <td>City of Albany</td>\n",
       "      <td>75,357</td>\n",
       "      <td>10</td>\n",
       "      <td>35</td>\n",
       "      <td>201</td>\n",
       "      <td>554</td>\n",
       "      <td>3,902</td>\n",
       "      <td>1,137</td>\n",
       "      <td>2,616</td>\n",
       "      <td>149</td>\n",
       "    </tr>\n",
       "    <tr>\n",
       "      <th>3</th>\n",
       "      <td>City of Albany</td>\n",
       "      <td>52,394</td>\n",
       "      <td>2</td>\n",
       "      <td>10</td>\n",
       "      <td>16</td>\n",
       "      <td>13</td>\n",
       "      <td>1,726</td>\n",
       "      <td>173</td>\n",
       "      <td>1,447</td>\n",
       "      <td>106</td>\n",
       "    </tr>\n",
       "    <tr>\n",
       "      <th>4</th>\n",
       "      <td>City of Albuquerque</td>\n",
       "      <td>559,721</td>\n",
       "      <td>43</td>\n",
       "      <td>404</td>\n",
       "      <td>1,686</td>\n",
       "      <td>3,273</td>\n",
       "      <td>33,993</td>\n",
       "      <td>5,996</td>\n",
       "      <td>22,818</td>\n",
       "      <td>5,179</td>\n",
       "    </tr>\n",
       "    <tr>\n",
       "      <th>...</th>\n",
       "      <td>...</td>\n",
       "      <td>...</td>\n",
       "      <td>...</td>\n",
       "      <td>...</td>\n",
       "      <td>...</td>\n",
       "      <td>...</td>\n",
       "      <td>...</td>\n",
       "      <td>...</td>\n",
       "      <td>...</td>\n",
       "      <td>...</td>\n",
       "    </tr>\n",
       "    <tr>\n",
       "      <th>556</th>\n",
       "      <td>City of Yakima</td>\n",
       "      <td>93,798</td>\n",
       "      <td>7</td>\n",
       "      <td>51</td>\n",
       "      <td>126</td>\n",
       "      <td>330</td>\n",
       "      <td>5,091</td>\n",
       "      <td>1,307</td>\n",
       "      <td>3,110</td>\n",
       "      <td>674</td>\n",
       "    </tr>\n",
       "    <tr>\n",
       "      <th>557</th>\n",
       "      <td>City of York</td>\n",
       "      <td>43,864</td>\n",
       "      <td>10</td>\n",
       "      <td>19</td>\n",
       "      <td>178</td>\n",
       "      <td>118</td>\n",
       "      <td>1,399</td>\n",
       "      <td>336</td>\n",
       "      <td>939</td>\n",
       "      <td>124</td>\n",
       "    </tr>\n",
       "    <tr>\n",
       "      <th>558</th>\n",
       "      <td>City of Hanover</td>\n",
       "      <td>15,494</td>\n",
       "      <td>0</td>\n",
       "      <td>3</td>\n",
       "      <td>6</td>\n",
       "      <td>15</td>\n",
       "      <td>453</td>\n",
       "      <td>27</td>\n",
       "      <td>419</td>\n",
       "      <td>7</td>\n",
       "    </tr>\n",
       "    <tr>\n",
       "      <th>559</th>\n",
       "      <td>City of Yuba City</td>\n",
       "      <td>65,974</td>\n",
       "      <td>0</td>\n",
       "      <td>28</td>\n",
       "      <td>66</td>\n",
       "      <td>122</td>\n",
       "      <td>1,792</td>\n",
       "      <td>429</td>\n",
       "      <td>1,160</td>\n",
       "      <td>203</td>\n",
       "    </tr>\n",
       "    <tr>\n",
       "      <th>560</th>\n",
       "      <td>City of Yuma</td>\n",
       "      <td>93,923</td>\n",
       "      <td>5</td>\n",
       "      <td>46</td>\n",
       "      <td>74</td>\n",
       "      <td>328</td>\n",
       "      <td>2,925</td>\n",
       "      <td>682</td>\n",
       "      <td>1,984</td>\n",
       "      <td>259</td>\n",
       "    </tr>\n",
       "  </tbody>\n",
       "</table>\n",
       "<p>561 rows × 10 columns</p>\n",
       "</div>"
      ],
      "text/plain": [
       "                    City Population Murders   Rape  Robbery  \\\n",
       "0        City of Abilene    121,764      7     84      128    \n",
       "1          City of Akron    197,587     28    166      402    \n",
       "2         City of Albany     75,357     10     35      201    \n",
       "3         City of Albany     52,394      2     10       16    \n",
       "4    City of Albuquerque    559,721     43    404    1,686    \n",
       "..                   ...        ...     ...    ...      ...   \n",
       "556       City of Yakima     93,798      7     51      126    \n",
       "557         City of York     43,864     10     19      178    \n",
       "558      City of Hanover     15,494      0      3        6    \n",
       "559    City of Yuba City     65,974      0     28       66    \n",
       "560         City of Yuma     93,923      5     46       74    \n",
       "\n",
       "    Aggravated_Assault Property_Crime Burglary Larceny_Theft  \\\n",
       "0                 394          5,354    1,168         3,798    \n",
       "1                 572          8,027    2,426         5,002    \n",
       "2                 554          3,902    1,137         2,616    \n",
       "3                  13          1,726      173         1,447    \n",
       "4               3,273         33,993    5,996        22,818    \n",
       "..                 ...            ...      ...           ...   \n",
       "556               330          5,091    1,307         3,110    \n",
       "557               118          1,399      336           939    \n",
       "558                15            453       27           419    \n",
       "559               122          1,792      429         1,160    \n",
       "560               328          2,925      682         1,984    \n",
       "\n",
       "    Motor_Vehicle_Theft  \n",
       "0                  388   \n",
       "1                  599   \n",
       "2                  149   \n",
       "3                  106   \n",
       "4                5,179   \n",
       "..                  ...  \n",
       "556                674   \n",
       "557                124   \n",
       "558                  7   \n",
       "559                203   \n",
       "560                259   \n",
       "\n",
       "[561 rows x 10 columns]"
      ]
     },
     "execution_count": 8,
     "metadata": {},
     "output_type": "execute_result"
    }
   ],
   "source": [
    "#removes all numbers\n",
    "def standardize_city_MSA_names(string):\n",
    "    \n",
    "    string = string.strip()\n",
    "    string = string.replace(\"1\", \"\")\n",
    "    string = string.replace(\"2\", \"\")\n",
    "    string = string.replace(\"3\", \"\")\n",
    "    string = string.replace(\"4\", \"\")\n",
    "    string = string.replace(\"5\", \"\")\n",
    "    string = string.replace(\"6\", \"\")\n",
    "    string = string.replace(\"7\", \"\")\n",
    "    string = string.replace(\"8\", \"\")\n",
    "    string = string.replace(\"9\", \"\")\n",
    "    string = string.replace(\"0\", \"\")\n",
    "    string = string.replace(\",\", \"\")\n",
    "    string = string.strip()\n",
    "    \n",
    "    return string\n",
    "\n",
    "joined2015['Area'] = joined2015['Area'].apply(standardize_city_MSA_names)\n",
    "city2015['City'] = city2015['City'].apply(standardize_city_MSA_names)\n",
    "\n",
    "joined2016['Area'] = joined2016['Area'].apply(standardize_city_MSA_names)\n",
    "city2016['City'] = city2016['City'].apply(standardize_city_MSA_names)\n",
    "\n",
    "joined2017['Area'] = joined2017['Area'].apply(standardize_city_MSA_names)\n",
    "city2017['City'] = city2017['City'].apply(standardize_city_MSA_names)\n",
    "\n",
    "joined2018['Area'] = joined2018['Area'].apply(standardize_city_MSA_names)\n",
    "city2018['City'] = city2018['City'].apply(standardize_city_MSA_names)\n",
    "\n",
    "joined2019['Area'] = joined2019['Area'].apply(standardize_city_MSA_names)\n",
    "city2019['City'] = city2019['City'].apply(standardize_city_MSA_names)\n",
    "city2015"
   ]
  },
  {
   "cell_type": "code",
   "execution_count": 9,
   "metadata": {},
   "outputs": [],
   "source": [
    "#converts population into an int\n",
    "def standardize_numbers(arr):\n",
    "    string = ''\n",
    "    output = []\n",
    "    for i in arr:\n",
    "        string = i\n",
    "        if isinstance(string, str):\n",
    "            string = string.strip()\n",
    "            string = string.replace(\",\", \"\")\n",
    "            string = string.strip()\n",
    "            string = int(string)\n",
    "            output.append(string)\n",
    "        elif(pd.isnull(string)):\n",
    "            output.append(string)\n",
    "        else:\n",
    "            string = int(string)\n",
    "            output.append(string)\n",
    "    \n",
    "    return output\n",
    "\n",
    "city2015.iloc[:,1:] = city2015.iloc[:,1:].apply(standardize_numbers)\n",
    "city2016.iloc[:,1:] = city2016.iloc[:,1:].apply(standardize_numbers)\n",
    "city2017.iloc[:,1:] = city2017.iloc[:,1:].apply(standardize_numbers)\n",
    "city2018.iloc[:,1:] = city2018.iloc[:,1:].apply(standardize_numbers)\n",
    "city2019.iloc[:,1:] = city2019.iloc[:,1:].apply(standardize_numbers)"
   ]
  },
  {
   "cell_type": "markdown",
   "metadata": {},
   "source": [
    "Next, to better analyze year by year trends we need to combine all of yearly datasets into one big one for both the cities and the MSAs."
   ]
  },
  {
   "cell_type": "code",
   "execution_count": 10,
   "metadata": {},
   "outputs": [],
   "source": [
    "#combines all the murders per city dataframes into one\n",
    "citycombine = city2015.join(city2016, lsuffix = ' 2015', rsuffix = ' 2016').join(city2017).join(city2018, lsuffix = ' 2017', rsuffix = ' 2018').join(city2019)\n",
    "#citycombine = citycombine.drop(citycombine.columns[[3, 6, 9, 12]], axis = 1)\n",
    "citycombine = citycombine.rename(columns={\"City 2015\": \"City\", \"Population\": \"Population 2019\", \"Murders\": \"Murders 2019\",'Rape':'Rape 2019', 'Robbery':'Robbery 2019', 'Aggravated_Assault': 'Aggravated_Assault 2019', 'Property_Crime':  'Property_Crime 2019', 'Burglary': 'Burglary 2019', 'Larceny_Theft': 'Larceny_Theft 2019', 'Motor_Vehicle_Theft': 'Motor_Vehicle_Theft 2019'})\n",
    "citycombine = citycombine.dropna()\n",
    "#df.drop(\"City\", axis=1, inplace=True)\n",
    "citycombine.drop(\"City 2016\", axis=1, inplace=True)\n",
    "citycombine.drop(\"City 2017\", axis=1, inplace=True)\n",
    "citycombine.drop(\"City 2018\", axis=1, inplace=True)\n",
    "citycombine = citycombine.loc[:,~citycombine.columns.duplicated()]\n",
    "\n",
    "#citycombine.drop(\"City 2019\", axis=1, inplace=True)\n"
   ]
  },
  {
   "cell_type": "code",
   "execution_count": 11,
   "metadata": {},
   "outputs": [
    {
     "data": {
      "text/html": [
       "<div>\n",
       "<style scoped>\n",
       "    .dataframe tbody tr th:only-of-type {\n",
       "        vertical-align: middle;\n",
       "    }\n",
       "\n",
       "    .dataframe tbody tr th {\n",
       "        vertical-align: top;\n",
       "    }\n",
       "\n",
       "    .dataframe thead th {\n",
       "        text-align: right;\n",
       "    }\n",
       "</style>\n",
       "<table border=\"1\" class=\"dataframe\">\n",
       "  <thead>\n",
       "    <tr style=\"text-align: right;\">\n",
       "      <th></th>\n",
       "      <th>Area</th>\n",
       "      <th>Population 2015</th>\n",
       "      <th>Rate (per 100k inhabitants) 2015</th>\n",
       "      <th>Population 2016</th>\n",
       "      <th>Rate (per 100k inhabitants) 2016</th>\n",
       "      <th>Population 2017</th>\n",
       "      <th>Rate (per 100k inhabitants) 2017</th>\n",
       "      <th>Population 2018</th>\n",
       "      <th>Rate (per 100k inhabitants) 2018</th>\n",
       "      <th>Population 2019</th>\n",
       "      <th>Rate (per 100k inhabitants) 2019</th>\n",
       "    </tr>\n",
       "  </thead>\n",
       "  <tbody>\n",
       "    <tr>\n",
       "      <th>0</th>\n",
       "      <td>Abilene TX M.S.A.</td>\n",
       "      <td>169,713</td>\n",
       "      <td>5.3</td>\n",
       "      <td>169,885</td>\n",
       "      <td>6.5</td>\n",
       "      <td>170,995</td>\n",
       "      <td>4.1</td>\n",
       "      <td>170,417</td>\n",
       "      <td>5.3</td>\n",
       "      <td>171,125</td>\n",
       "      <td>5.3</td>\n",
       "    </tr>\n",
       "    <tr>\n",
       "      <th>1</th>\n",
       "      <td>Akron OH M.S.A.</td>\n",
       "      <td>704,320</td>\n",
       "      <td>5.1</td>\n",
       "      <td>703,561</td>\n",
       "      <td>6.0</td>\n",
       "      <td>703,907</td>\n",
       "      <td>7.4</td>\n",
       "      <td>704,283</td>\n",
       "      <td>6.4</td>\n",
       "      <td>703,784</td>\n",
       "      <td>6.4</td>\n",
       "    </tr>\n",
       "    <tr>\n",
       "      <th>2</th>\n",
       "      <td>Albany GA M.S.A.</td>\n",
       "      <td>154,516</td>\n",
       "      <td>7.8</td>\n",
       "      <td>152,566</td>\n",
       "      <td>11.8</td>\n",
       "      <td>151,534</td>\n",
       "      <td>15.2</td>\n",
       "      <td>147,142</td>\n",
       "      <td>11.6</td>\n",
       "      <td>149,257</td>\n",
       "      <td>11.6</td>\n",
       "    </tr>\n",
       "    <tr>\n",
       "      <th>3</th>\n",
       "      <td>Albany OR M.S.A.</td>\n",
       "      <td>120,716</td>\n",
       "      <td>2.5</td>\n",
       "      <td>122,030</td>\n",
       "      <td>0.0</td>\n",
       "      <td>124,014</td>\n",
       "      <td>1.6</td>\n",
       "      <td>871,741</td>\n",
       "      <td>2.2</td>\n",
       "      <td>128,105</td>\n",
       "      <td>2.2</td>\n",
       "    </tr>\n",
       "    <tr>\n",
       "      <th>4</th>\n",
       "      <td>Albuquerque NM M.S.A.</td>\n",
       "      <td>905,803</td>\n",
       "      <td>6.1</td>\n",
       "      <td>878,166</td>\n",
       "      <td>2.0</td>\n",
       "      <td>885,673</td>\n",
       "      <td>2.0</td>\n",
       "      <td>915,468</td>\n",
       "      <td>9.5</td>\n",
       "      <td>879,862</td>\n",
       "      <td>9.5</td>\n",
       "    </tr>\n",
       "    <tr>\n",
       "      <th>...</th>\n",
       "      <td>...</td>\n",
       "      <td>...</td>\n",
       "      <td>...</td>\n",
       "      <td>...</td>\n",
       "      <td>...</td>\n",
       "      <td>...</td>\n",
       "      <td>...</td>\n",
       "      <td>...</td>\n",
       "      <td>...</td>\n",
       "      <td>...</td>\n",
       "      <td>...</td>\n",
       "    </tr>\n",
       "    <tr>\n",
       "      <th>373</th>\n",
       "      <td>Guayama Puerto Rico M.S.A.</td>\n",
       "      <td>79,086</td>\n",
       "      <td>11.4</td>\n",
       "      <td>282,695</td>\n",
       "      <td>6.0</td>\n",
       "      <td>135,895</td>\n",
       "      <td>2.9</td>\n",
       "      <td>NaN</td>\n",
       "      <td>NaN</td>\n",
       "      <td>NaN</td>\n",
       "      <td>NaN</td>\n",
       "    </tr>\n",
       "    <tr>\n",
       "      <th>374</th>\n",
       "      <td>Mayaguez Puerto Rico M.S.A.</td>\n",
       "      <td>95,988</td>\n",
       "      <td>11.5</td>\n",
       "      <td>134,144</td>\n",
       "      <td>5.2</td>\n",
       "      <td>118,293</td>\n",
       "      <td>3.4</td>\n",
       "      <td>NaN</td>\n",
       "      <td>NaN</td>\n",
       "      <td>NaN</td>\n",
       "      <td>NaN</td>\n",
       "    </tr>\n",
       "    <tr>\n",
       "      <th>375</th>\n",
       "      <td>Ponce Puerto Rico M.S.A.</td>\n",
       "      <td>317,185</td>\n",
       "      <td>18.0</td>\n",
       "      <td>861,261</td>\n",
       "      <td>1.4</td>\n",
       "      <td>119,117</td>\n",
       "      <td>1.7</td>\n",
       "      <td>NaN</td>\n",
       "      <td>NaN</td>\n",
       "      <td>NaN</td>\n",
       "      <td>NaN</td>\n",
       "    </tr>\n",
       "    <tr>\n",
       "      <th>376</th>\n",
       "      <td>San German Puerto Rico M.S.A.</td>\n",
       "      <td>130,228</td>\n",
       "      <td>5.4</td>\n",
       "      <td>250,717</td>\n",
       "      <td>8.4</td>\n",
       "      <td>141,891</td>\n",
       "      <td>3.5</td>\n",
       "      <td>NaN</td>\n",
       "      <td>NaN</td>\n",
       "      <td>NaN</td>\n",
       "      <td>NaN</td>\n",
       "    </tr>\n",
       "    <tr>\n",
       "      <th>377</th>\n",
       "      <td>San Juan-Carolina-Caguas Puerto Rico M.S.A.</td>\n",
       "      <td>2,196,538</td>\n",
       "      <td>20.6</td>\n",
       "      <td>443,062</td>\n",
       "      <td>4.3</td>\n",
       "      <td>646,209</td>\n",
       "      <td>6.8</td>\n",
       "      <td>NaN</td>\n",
       "      <td>NaN</td>\n",
       "      <td>NaN</td>\n",
       "      <td>NaN</td>\n",
       "    </tr>\n",
       "  </tbody>\n",
       "</table>\n",
       "<p>378 rows × 11 columns</p>\n",
       "</div>"
      ],
      "text/plain": [
       "                                            Area Population 2015  \\\n",
       "0                              Abilene TX M.S.A.         169,713   \n",
       "1                                Akron OH M.S.A.         704,320   \n",
       "2                               Albany GA M.S.A.         154,516   \n",
       "3                               Albany OR M.S.A.         120,716   \n",
       "4                          Albuquerque NM M.S.A.         905,803   \n",
       "..                                           ...             ...   \n",
       "373                   Guayama Puerto Rico M.S.A.          79,086   \n",
       "374                  Mayaguez Puerto Rico M.S.A.          95,988   \n",
       "375                     Ponce Puerto Rico M.S.A.         317,185   \n",
       "376                San German Puerto Rico M.S.A.         130,228   \n",
       "377  San Juan-Carolina-Caguas Puerto Rico M.S.A.       2,196,538   \n",
       "\n",
       "    Rate (per 100k inhabitants) 2015 Population 2016  \\\n",
       "0                                5.3         169,885   \n",
       "1                                5.1         703,561   \n",
       "2                                7.8         152,566   \n",
       "3                                2.5         122,030   \n",
       "4                                6.1         878,166   \n",
       "..                               ...             ...   \n",
       "373                             11.4         282,695   \n",
       "374                             11.5         134,144   \n",
       "375                             18.0         861,261   \n",
       "376                              5.4         250,717   \n",
       "377                             20.6         443,062   \n",
       "\n",
       "    Rate (per 100k inhabitants) 2016 Population 2017  \\\n",
       "0                                6.5         170,995   \n",
       "1                                6.0         703,907   \n",
       "2                               11.8         151,534   \n",
       "3                                0.0         124,014   \n",
       "4                                2.0         885,673   \n",
       "..                               ...             ...   \n",
       "373                              6.0         135,895   \n",
       "374                              5.2         118,293   \n",
       "375                              1.4         119,117   \n",
       "376                              8.4         141,891   \n",
       "377                              4.3         646,209   \n",
       "\n",
       "    Rate (per 100k inhabitants) 2017 Population 2018  \\\n",
       "0                                4.1         170,417   \n",
       "1                                7.4         704,283   \n",
       "2                               15.2         147,142   \n",
       "3                                1.6         871,741   \n",
       "4                                2.0         915,468   \n",
       "..                               ...             ...   \n",
       "373                              2.9             NaN   \n",
       "374                              3.4             NaN   \n",
       "375                              1.7             NaN   \n",
       "376                              3.5             NaN   \n",
       "377                              6.8             NaN   \n",
       "\n",
       "    Rate (per 100k inhabitants) 2018 Population 2019  \\\n",
       "0                                5.3         171,125   \n",
       "1                                6.4         703,784   \n",
       "2                               11.6         149,257   \n",
       "3                                2.2         128,105   \n",
       "4                                9.5         879,862   \n",
       "..                               ...             ...   \n",
       "373                              NaN             NaN   \n",
       "374                              NaN             NaN   \n",
       "375                              NaN             NaN   \n",
       "376                              NaN             NaN   \n",
       "377                              NaN             NaN   \n",
       "\n",
       "    Rate (per 100k inhabitants) 2019  \n",
       "0                                5.3  \n",
       "1                                6.4  \n",
       "2                               11.6  \n",
       "3                                2.2  \n",
       "4                                9.5  \n",
       "..                               ...  \n",
       "373                              NaN  \n",
       "374                              NaN  \n",
       "375                              NaN  \n",
       "376                              NaN  \n",
       "377                              NaN  \n",
       "\n",
       "[378 rows x 11 columns]"
      ]
     },
     "execution_count": 11,
     "metadata": {},
     "output_type": "execute_result"
    }
   ],
   "source": [
    "#combines all the datasets with Metropolitan Statistical Area and Murders per 100k inhabitants into one\n",
    "joinedcombine = joined2015.join(joined2016, lsuffix = ' 2015', rsuffix = ' 2016').join(joined2017).join(joined2018, lsuffix = ' 2017', rsuffix = ' 2018').join(joined2019)\n",
    "joinedcombine = joinedcombine.drop(joinedcombine.columns[[3, 6, 9, 12]], axis = 1)\n",
    "joinedcombine = joinedcombine.rename(columns={\"Area 2015\": \"Area\", \"Population\": \"Population 2019\", \"Rate (per 100k inhabitants)\": \"Rate (per 100k inhabitants) 2019\"})\n",
    "joinedcombine"
   ]
  },
  {
   "cell_type": "markdown",
   "metadata": {},
   "source": [
    "Finally, we created one final dataframe of just the murders and rates to facilitate an analysis of that as well."
   ]
  },
  {
   "cell_type": "code",
   "execution_count": 12,
   "metadata": {},
   "outputs": [
    {
     "data": {
      "text/html": [
       "<div>\n",
       "<style scoped>\n",
       "    .dataframe tbody tr th:only-of-type {\n",
       "        vertical-align: middle;\n",
       "    }\n",
       "\n",
       "    .dataframe tbody tr th {\n",
       "        vertical-align: top;\n",
       "    }\n",
       "\n",
       "    .dataframe thead th {\n",
       "        text-align: right;\n",
       "    }\n",
       "</style>\n",
       "<table border=\"1\" class=\"dataframe\">\n",
       "  <thead>\n",
       "    <tr style=\"text-align: right;\">\n",
       "      <th>Area</th>\n",
       "      <th>Abilene TX M.S.A.</th>\n",
       "      <th>Akron OH M.S.A.</th>\n",
       "      <th>Albany GA M.S.A.</th>\n",
       "      <th>Albany OR M.S.A.</th>\n",
       "      <th>Albuquerque NM M.S.A.</th>\n",
       "      <th>Alexandria LA M.S.A.</th>\n",
       "      <th>Altoona PA M.S.A.</th>\n",
       "      <th>Amarillo TX M.S.A.</th>\n",
       "      <th>Ames IA M.S.A.</th>\n",
       "      <th>Anchorage AK M.S.A.</th>\n",
       "      <th>...</th>\n",
       "      <th>Spokane-Spokane Valley WA M.S.A.</th>\n",
       "      <th>Springfield IL M.S.A.</th>\n",
       "      <th>Springfield MA M.S.A.</th>\n",
       "      <th>Springfield MO M.S.A.</th>\n",
       "      <th>Springfield OH M.S.A.</th>\n",
       "      <th>State College PA M.S.A.</th>\n",
       "      <th>Staunton-Waynesboro VA M.S.A.</th>\n",
       "      <th>St. Cloud MN M.S.A.</th>\n",
       "      <th>St. George UT M.S.A.</th>\n",
       "      <th>Years</th>\n",
       "    </tr>\n",
       "  </thead>\n",
       "  <tbody>\n",
       "    <tr>\n",
       "      <th>Rate 2015</th>\n",
       "      <td>5.3</td>\n",
       "      <td>5.1</td>\n",
       "      <td>7.8</td>\n",
       "      <td>2.5</td>\n",
       "      <td>6.1</td>\n",
       "      <td>4.5</td>\n",
       "      <td>0.8</td>\n",
       "      <td>3.4</td>\n",
       "      <td>1.0</td>\n",
       "      <td>8.2</td>\n",
       "      <td>...</td>\n",
       "      <td>3.8</td>\n",
       "      <td>5.2</td>\n",
       "      <td>3.5</td>\n",
       "      <td>3.3</td>\n",
       "      <td>8.8</td>\n",
       "      <td>1.3</td>\n",
       "      <td>3.3</td>\n",
       "      <td>2.1</td>\n",
       "      <td>0.0</td>\n",
       "      <td>2015</td>\n",
       "    </tr>\n",
       "    <tr>\n",
       "      <th>Rate 2016</th>\n",
       "      <td>6.5</td>\n",
       "      <td>6.0</td>\n",
       "      <td>11.8</td>\n",
       "      <td>0.0</td>\n",
       "      <td>2.0</td>\n",
       "      <td>8.3</td>\n",
       "      <td>7.8</td>\n",
       "      <td>2.6</td>\n",
       "      <td>0.8</td>\n",
       "      <td>5.3</td>\n",
       "      <td>...</td>\n",
       "      <td>7.0</td>\n",
       "      <td>1.7</td>\n",
       "      <td>4.0</td>\n",
       "      <td>11.7</td>\n",
       "      <td>4.0</td>\n",
       "      <td>1.8</td>\n",
       "      <td>3.9</td>\n",
       "      <td>5.0</td>\n",
       "      <td>2.9</td>\n",
       "      <td>2016</td>\n",
       "    </tr>\n",
       "    <tr>\n",
       "      <th>Rate 2017</th>\n",
       "      <td>4.1</td>\n",
       "      <td>7.4</td>\n",
       "      <td>15.2</td>\n",
       "      <td>1.6</td>\n",
       "      <td>2.0</td>\n",
       "      <td>8.9</td>\n",
       "      <td>13.6</td>\n",
       "      <td>3.1</td>\n",
       "      <td>0.0</td>\n",
       "      <td>6.4</td>\n",
       "      <td>...</td>\n",
       "      <td>9.7</td>\n",
       "      <td>4.0</td>\n",
       "      <td>3.0</td>\n",
       "      <td>3.0</td>\n",
       "      <td>2.7</td>\n",
       "      <td>1.9</td>\n",
       "      <td>6.9</td>\n",
       "      <td>1.7</td>\n",
       "      <td>4.6</td>\n",
       "      <td>2017</td>\n",
       "    </tr>\n",
       "    <tr>\n",
       "      <th>Rate 2018</th>\n",
       "      <td>5.3</td>\n",
       "      <td>6.4</td>\n",
       "      <td>11.6</td>\n",
       "      <td>2.2</td>\n",
       "      <td>9.5</td>\n",
       "      <td>10.5</td>\n",
       "      <td>1.9</td>\n",
       "      <td>2.4</td>\n",
       "      <td>4.9</td>\n",
       "      <td>8.4</td>\n",
       "      <td>...</td>\n",
       "      <td>1.8</td>\n",
       "      <td>7.1</td>\n",
       "      <td>12.9</td>\n",
       "      <td>6.9</td>\n",
       "      <td>7.1</td>\n",
       "      <td>4.7</td>\n",
       "      <td>7.0</td>\n",
       "      <td>3.8</td>\n",
       "      <td>3.3</td>\n",
       "      <td>2018</td>\n",
       "    </tr>\n",
       "    <tr>\n",
       "      <th>Rate 2019</th>\n",
       "      <td>5.3</td>\n",
       "      <td>6.4</td>\n",
       "      <td>11.6</td>\n",
       "      <td>2.2</td>\n",
       "      <td>9.5</td>\n",
       "      <td>10.5</td>\n",
       "      <td>1.9</td>\n",
       "      <td>2.4</td>\n",
       "      <td>4.9</td>\n",
       "      <td>8.4</td>\n",
       "      <td>...</td>\n",
       "      <td>1.8</td>\n",
       "      <td>7.1</td>\n",
       "      <td>12.9</td>\n",
       "      <td>6.9</td>\n",
       "      <td>7.1</td>\n",
       "      <td>4.7</td>\n",
       "      <td>7.0</td>\n",
       "      <td>3.8</td>\n",
       "      <td>3.3</td>\n",
       "      <td>2019</td>\n",
       "    </tr>\n",
       "  </tbody>\n",
       "</table>\n",
       "<p>5 rows × 328 columns</p>\n",
       "</div>"
      ],
      "text/plain": [
       "Area       Abilene TX M.S.A.  Akron OH M.S.A.  Albany GA M.S.A.  \\\n",
       "Rate 2015                5.3              5.1               7.8   \n",
       "Rate 2016                6.5              6.0              11.8   \n",
       "Rate 2017                4.1              7.4              15.2   \n",
       "Rate 2018                5.3              6.4              11.6   \n",
       "Rate 2019                5.3              6.4              11.6   \n",
       "\n",
       "Area       Albany OR M.S.A.  Albuquerque NM M.S.A.  Alexandria LA M.S.A.  \\\n",
       "Rate 2015               2.5                    6.1                   4.5   \n",
       "Rate 2016               0.0                    2.0                   8.3   \n",
       "Rate 2017               1.6                    2.0                   8.9   \n",
       "Rate 2018               2.2                    9.5                  10.5   \n",
       "Rate 2019               2.2                    9.5                  10.5   \n",
       "\n",
       "Area       Altoona PA M.S.A.  Amarillo TX M.S.A.  Ames IA M.S.A.  \\\n",
       "Rate 2015                0.8                 3.4             1.0   \n",
       "Rate 2016                7.8                 2.6             0.8   \n",
       "Rate 2017               13.6                 3.1             0.0   \n",
       "Rate 2018                1.9                 2.4             4.9   \n",
       "Rate 2019                1.9                 2.4             4.9   \n",
       "\n",
       "Area       Anchorage AK M.S.A.  ...  Spokane-Spokane Valley WA M.S.A.  \\\n",
       "Rate 2015                  8.2  ...                               3.8   \n",
       "Rate 2016                  5.3  ...                               7.0   \n",
       "Rate 2017                  6.4  ...                               9.7   \n",
       "Rate 2018                  8.4  ...                               1.8   \n",
       "Rate 2019                  8.4  ...                               1.8   \n",
       "\n",
       "Area       Springfield IL M.S.A.  Springfield MA M.S.A.  \\\n",
       "Rate 2015                    5.2                    3.5   \n",
       "Rate 2016                    1.7                    4.0   \n",
       "Rate 2017                    4.0                    3.0   \n",
       "Rate 2018                    7.1                   12.9   \n",
       "Rate 2019                    7.1                   12.9   \n",
       "\n",
       "Area       Springfield MO M.S.A.  Springfield OH M.S.A.  \\\n",
       "Rate 2015                    3.3                    8.8   \n",
       "Rate 2016                   11.7                    4.0   \n",
       "Rate 2017                    3.0                    2.7   \n",
       "Rate 2018                    6.9                    7.1   \n",
       "Rate 2019                    6.9                    7.1   \n",
       "\n",
       "Area       State College PA M.S.A.  Staunton-Waynesboro VA M.S.A.  \\\n",
       "Rate 2015                      1.3                            3.3   \n",
       "Rate 2016                      1.8                            3.9   \n",
       "Rate 2017                      1.9                            6.9   \n",
       "Rate 2018                      4.7                            7.0   \n",
       "Rate 2019                      4.7                            7.0   \n",
       "\n",
       "Area       St. Cloud MN M.S.A.  St. George UT M.S.A.  Years  \n",
       "Rate 2015                  2.1                   0.0   2015  \n",
       "Rate 2016                  5.0                   2.9   2016  \n",
       "Rate 2017                  1.7                   4.6   2017  \n",
       "Rate 2018                  3.8                   3.3   2018  \n",
       "Rate 2019                  3.8                   3.3   2019  \n",
       "\n",
       "[5 rows x 328 columns]"
      ]
     },
     "execution_count": 12,
     "metadata": {},
     "output_type": "execute_result"
    }
   ],
   "source": [
    "#sets up dataframe to create lineplot\n",
    "\n",
    "years = ['2015', '2016', '2017', '2018', '2019']\n",
    "rates_df = joinedcombine[['Area','Rate (per 100k inhabitants) 2015', 'Rate (per 100k inhabitants) 2016', 'Rate (per 100k inhabitants) 2017', 'Rate (per 100k inhabitants) 2018', 'Rate (per 100k inhabitants) 2019']]\n",
    "rates_df2 = rates_df.dropna().reset_index(drop=True)\n",
    "rates_df2 = rates_df2.rename (columns = {'Rate (per 100k inhabitants) 2015': 'Rate 2015', 'Rate (per 100k inhabitants) 2016': 'Rate 2016', 'Rate (per 100k inhabitants) 2017': 'Rate 2017', 'Rate (per 100k inhabitants) 2018': 'Rate 2018', 'Rate (per 100k inhabitants) 2019': 'Rate 2019'})\n",
    "rates_df2 = rates_df2.set_index('Area')\n",
    "rates_df3 = rates_df2.transpose()\n",
    "rates_df3 = rates_df3.apply(pd.to_numeric)\n",
    "rates_df3['Years'] = years\n",
    "rates_df3"
   ]
  },
  {
   "cell_type": "markdown",
   "metadata": {},
   "source": [
    "# Data Analysis & Results"
   ]
  },
  {
   "cell_type": "markdown",
   "metadata": {},
   "source": [
    "To begin our EDA, we'll start out by making a few line plots that plot the change in murder rate per 100k inhabitants in select Metropolitan Statistical Areas. These line plots will plot 10 essentially random MSAs each in order to get a wide range of MSAs being sampled with minimal confounds. From there, we'll be able to easily see whether or not there is a wide trend in murder rates for these MSAs (ie do some typically trend upwards while some trend downwards?)."
   ]
  },
  {
   "cell_type": "code",
   "execution_count": 64,
   "metadata": {},
   "outputs": [
    {
     "data": {
      "image/png": "[encoded data removed]",
      "text/plain": [
       "<Figure size 432x288 with 1 Axes>"
      ]
     },
     "metadata": {
      "needs_background": "light"
     },
     "output_type": "display_data"
    }
   ],
   "source": [
    "#lineplot showing the change in murder rates over 5 years in select MSAs\n",
    "\n",
    "counter = 0\n",
    "for items in rates_df3:\n",
    "    if counter <= 10: \n",
    "        x = sns.lineplot(data = rates_df3, y = rates_df3.iloc[:,counter], x = 'Years',label=rates_df3.columns[counter])\n",
    "        counter += 1\n",
    "        \n",
    "x.set_xlabel(\"Years\", fontsize = 10)\n",
    "x.set_ylabel(\"Murder Rates (per 100k inhabitants)\", fontsize = 15)\n",
    "x.legend(loc='center left', bbox_to_anchor=(1, 0.5))\n",
    "plt.show()\n"
   ]
  },
  {
   "cell_type": "code",
   "execution_count": 15,
   "metadata": {},
   "outputs": [
    {
     "data": {
      "image/png": "[encoded data removed]",
      "text/plain": [
       "<Figure size 432x288 with 1 Axes>"
      ]
     },
     "metadata": {
      "needs_background": "light"
     },
     "output_type": "display_data"
    }
   ],
   "source": [
    "counter = 150\n",
    "for items in rates_df3:\n",
    "    if counter <= 160: \n",
    "        x = sns.lineplot(data = rates_df3, y = rates_df3.iloc[:,counter], x = 'Years',label=rates_df3.columns[counter])\n",
    "        counter += 1\n",
    "        \n",
    "x.set_xlabel(\"Years\", fontsize = 20)\n",
    "x.set_ylabel(\"Murder Rates (per 100k inhabitants)\", fontsize = 15)\n",
    "x.legend(loc='center left', bbox_to_anchor=(1, 0.5))\n",
    "plt.show()"
   ]
  },
  {
   "cell_type": "code",
   "execution_count": 16,
   "metadata": {},
   "outputs": [
    {
     "data": {
      "image/png": "[encoded data removed]",
      "text/plain": [
       "<Figure size 432x288 with 1 Axes>"
      ]
     },
     "metadata": {
      "needs_background": "light"
     },
     "output_type": "display_data"
    }
   ],
   "source": [
    "#lineplot showing the change in murder rates over 5 years in select MSAs\n",
    "\n",
    "counter = 200\n",
    "for items in rates_df3:\n",
    "    if counter <= 210: \n",
    "        x = sns.lineplot(data = rates_df3, y = rates_df3.iloc[:,counter], x = 'Years',label=rates_df3.columns[counter])\n",
    "        counter += 1\n",
    "\n",
    "x.set_xlabel(\"Years\", fontsize = 20)\n",
    "x.set_ylabel(\"Murder Rates (per 100k inhabitants)\", fontsize = 15)\n",
    "x.legend(loc='center left', bbox_to_anchor=(1, 0.5))\n",
    "\n",
    "plt.show()"
   ]
  },
  {
   "cell_type": "markdown",
   "metadata": {},
   "source": [
    "There is generally no commonality between murder rate changes over the years in different MSAs. Some MSAs rate decreases and then increase and some increase and then decrease. Though, the rates stayed the same between the years 2018 and 2019. Since there doesn't appear to be any real trends at a glance when looking at the MSAs, it would be harder to tell if the other crimes follow suit. Therefore, if that path is a dead end, we can instead check the overall yearly trends"
   ]
  },
  {
   "cell_type": "code",
   "execution_count": 17,
   "metadata": {},
   "outputs": [
    {
     "name": "stdout",
     "output_type": "stream",
     "text": [
      "6408\n",
      "6938.0\n",
      "7343.0\n",
      "6502.0\n",
      "5289.0\n"
     ]
    },
    {
     "data": {
      "image/png": "[encoded data removed]",
      "text/plain": [
       "<Figure size 720x504 with 1 Axes>"
      ]
     },
     "metadata": {
      "needs_background": "light"
     },
     "output_type": "display_data"
    }
   ],
   "source": [
    "Murder2015 = citycombine['Murders 2015'].sum()\n",
    "print(Murder2015)\n",
    "Murder2016 = citycombine['Murders 2016'].sum()\n",
    "print(Murder2016)\n",
    "Murder2017 = citycombine['Murders 2017'].sum()\n",
    "print(Murder2017)\n",
    "Murder2018 = citycombine['Murders 2018'].sum()\n",
    "print(Murder2018)\n",
    "Murder2019 = citycombine['Murders 2019'].sum()\n",
    "print(Murder2019)\n",
    "\n",
    "total_murder_dict = {'Murder2015':Murder2015, 'Murder2016':Murder2016,'Murder2017':Murder2017,'Murder2018':Murder2018,'Murder2019':Murder2019}\n",
    "total_murder_series = pd.Series(data=total_murder_dict)\n",
    "total_murder_series.plot.bar(figsize = (10,7))\n",
    "\n",
    "plt.title('Murder Count for each year')\n",
    "plt.xlabel('Year of Murder')\n",
    "plt.ylabel('Total murders')\n",
    "\n",
    "plt.show()"
   ]
  },
  {
   "cell_type": "markdown",
   "metadata": {},
   "source": [
    "We see that murder rates are the highest during 2017, and it is at its lowest in 2019, Lets see the criminal activity during both of these times. However, since some criminal acts are more common than others, it would be valuable to see a percentage increase on criminal activity rather than just the numbers."
   ]
  },
  {
   "cell_type": "code",
   "execution_count": 18,
   "metadata": {},
   "outputs": [
    {
     "data": {
      "image/png": "[encoded data removed]",
      "text/plain": [
       "<Figure size 720x504 with 1 Axes>"
      ]
     },
     "metadata": {
      "needs_background": "light"
     },
     "output_type": "display_data"
    }
   ],
   "source": [
    "criminal_acts2017 = []\n",
    "for column in citycombine[['Rape 2017', 'Robbery 2017','Aggravated_Assault 2017', 'Property_Crime 2017', 'Burglary 2017','Larceny_Theft 2017', 'Motor_Vehicle_Theft 2017']]:\n",
    "    criminal_acts2017.append(citycombine[column].sum())\n",
    "    \n",
    "#CA_ser2017 = pd.Series(data=criminal_acts2017, index=['Rape 2017', 'Robbery 2017','Aggravated_Assault 2017', 'Property_Crime 2017', 'Burglary 2017','Larceny_Theft 2017', 'Motor_Vehicle_Theft 2017'])\n",
    "\n",
    "criminal_acts2019 = []\n",
    "for column in citycombine[['Rape 2019', 'Robbery 2019','Aggravated_Assault 2019', 'Property_Crime 2019', 'Burglary 2019','Larceny_Theft 2019', 'Motor_Vehicle_Theft 2019']]:\n",
    "    criminal_acts2019.append(citycombine[column].sum())\n",
    "    \n",
    "#CA_ser2017 = pd.Series(data=criminal_acts2017, index=['Rape 2017', 'Robbery 2017','Aggravated_Assault 2017', 'Property_Crime 2017', 'Burglary 2017','Larceny_Theft 2017', 'Motor_Vehicle_Theft 2017'])\n",
    "Murder2017_2019df = pd.DataFrame({'2017':criminal_acts2017,\n",
    "                                '2019':criminal_acts2019},index=['Rape', 'Robbery','Aggravated_Assault', 'Property_Crime', 'Burglary','Larceny_Theft', 'Motor_Vehicle_Theft'])\n",
    "\n",
    "percent_inc2017_2019 = []\n",
    "percent_inc2017_2019.append(Murder2017/Murder2019-1)\n",
    "for i in Murder2017_2019df.index:\n",
    "    percent_inc2017_2019.append(Murder2017_2019df.loc[i,'2017']/Murder2017_2019df.loc[i,'2019'] -1)\n",
    "percent_inc2017_2019_ser = pd.Series(data = percent_inc2017_2019, index = ['Murder','Rape', 'Robbery','Aggravated_Assault', 'Property_Crime', 'Burglary','Larceny_Theft', 'Motor_Vehicle_Theft'])\n",
    "\n",
    "percent_inc2017_2019_ser.plot.bar(figsize = (10,7))\n",
    "\n",
    "plt.title('Criminal Acts percentage increase from 2019 to 2017')\n",
    "plt.xlabel('Type of Crime')\n",
    "plt.ylabel('Percentage Increase of crime')\n",
    "\n",
    "plt.show()"
   ]
  },
  {
   "cell_type": "markdown",
   "metadata": {},
   "source": [
    "In this graph, we can see that the Burglary rate increased the same amount as the murder rates did, lets see if this is true for 2015-2019 with a lineplot. First we will make a dataframe with all the totals for each crime for each year."
   ]
  },
  {
   "cell_type": "code",
   "execution_count": 19,
   "metadata": {},
   "outputs": [
    {
     "data": {
      "image/png": "[encoded data removed]",
      "text/plain": [
       "<Figure size 576x576 with 1 Axes>"
      ]
     },
     "metadata": {
      "needs_background": "light"
     },
     "output_type": "display_data"
    }
   ],
   "source": [
    "total_robbery_arr = []\n",
    "Robbery2015 = citycombine['Robbery 2015'].sum()\n",
    "total_robbery_arr.append(Robbery2015)\n",
    "#print(Robbery2015)\n",
    "Robbery2016 = citycombine['Robbery 2016'].sum()\n",
    "total_robbery_arr.append(Robbery2016)\n",
    "#print(Robbery2016)\n",
    "Robbery2017 = citycombine['Robbery 2017'].sum()\n",
    "total_robbery_arr.append(Robbery2017)\n",
    "#print(Robbery2017)\n",
    "Robbery2018 = citycombine['Robbery 2018'].sum()\n",
    "total_robbery_arr.append(Robbery2018)\n",
    "#print(Robbery2018)\n",
    "Robbery2019 = citycombine['Robbery 2019'].sum()\n",
    "total_robbery_arr.append(Robbery2019)\n",
    "#print(Robbery2019)\n",
    "\n",
    "total_robbery_series = pd.Series(data=total_robbery_arr, index= ['Robbery2015','Robbery2016','Robbery2017','Robbery2018','Robbery2019'])\n",
    "rape_arr = citycombine[['Rape 2015','Rape 2016','Rape 2017','Rape 2018','Rape 2019']].sum().tolist()\n",
    "assault_arr = citycombine[['Aggravated_Assault 2015','Aggravated_Assault 2016','Aggravated_Assault 2017','Aggravated_Assault 2018','Aggravated_Assault 2019']].sum().tolist()\n",
    "property_Crime_arr = citycombine[['Property_Crime 2015','Property_Crime 2016','Property_Crime 2017','Property_Crime 2018','Property_Crime 2019']].sum().tolist()\n",
    "burglary_arr = citycombine[['Burglary 2015','Burglary 2016','Burglary 2017','Burglary 2018','Burglary 2019']].sum().tolist()\n",
    "larceny_Theft_arr = citycombine[['Larceny_Theft 2015','Larceny_Theft 2016','Larceny_Theft 2017','Larceny_Theft 2018','Larceny_Theft 2019']].sum().tolist()\n",
    "motor_Vehicle_Theft_arr = citycombine[['Motor_Vehicle_Theft 2015','Motor_Vehicle_Theft 2016','Motor_Vehicle_Theft 2017','Motor_Vehicle_Theft 2018','Motor_Vehicle_Theft 2019']].sum().tolist()\n",
    "\n",
    "Total_Crimes_df = pd.DataFrame({'Murder':list(total_murder_dict.values()),\n",
    "                                'Rape': rape_arr,\n",
    "                                'Aggravated Assault' : assault_arr,\n",
    "                                'Burglary': burglary_arr,\n",
    "                                'Larceny_Theft' : larceny_Theft_arr,\n",
    "                                'Motor_Vehicle_Theft' : motor_Vehicle_Theft_arr,\n",
    "                                'Robbery':total_robbery_arr},\n",
    "                                index=['2015','2016','2017','2018','2019'])\n",
    "\n",
    "#Total_Crimes_df.plot.line(subplots=True,figsize = (10,16))\n",
    "#plt.figure(figsize = (10,1))\n",
    "Total_Crimes_df.pct_change(fill_method ='ffill')[['Burglary','Murder']].plot.line(figsize = (8,8))\n",
    "plt.title('Burglary and Murder rates from 2015-2019')\n",
    "plt.xlabel('Year', fontsize = 15)\n",
    "plt.ylabel('Percentage change of crime', fontsize = 15)\n",
    "plt.show()\n",
    "citycombine[\"Murders 2015\"] = citycombine[\"Murders 2015\"].astype('float64')\n",
    "citycombine[\"Rape 2015\"] = citycombine[\"Rape 2015\"].astype('float64')\n",
    "citycombine[\"Burglary 2015\"] = citycombine[\"Burglary 2015\"].astype('float64')\n",
    "citycombine[\"Motor_Vehicle_Theft 2015\"] = citycombine[\"Motor_Vehicle_Theft 2015\"].astype('float64')\n",
    "citycombine.iloc[:,1:] = citycombine.iloc[:,1:].astype('float64')\n",
    "\n"
   ]
  },
  {
   "cell_type": "markdown",
   "metadata": {},
   "source": [
    "While we see a negative relation ship between year and crime for both Burglary and Murder, we can see that their trends are only very similar between 2018 to 2019, but besides that there is no real indication that burglary leads to murder cases changing. Lets see how the trends match with murder for all the other cases."
   ]
  },
  {
   "cell_type": "code",
   "execution_count": 20,
   "metadata": {
    "scrolled": true
   },
   "outputs": [
    {
     "data": {
      "image/png": "[encoded data removed]",
      "text/plain": [
       "<Figure size 576x576 with 1 Axes>"
      ]
     },
     "metadata": {
      "needs_background": "light"
     },
     "output_type": "display_data"
    }
   ],
   "source": [
    "#Total_Crimes_df.pct_change(fill_method ='ffill').plot.line(figsize = (8,8))\n",
    "plt.figure(figsize = (8,8))\n",
    "sns.lineplot(data=Total_Crimes_df.pct_change(fill_method ='ffill'))\n",
    "plt.title('Criminal Acts rates from 2015-2019')\n",
    "plt.xlabel('Year', fontsize = 15)\n",
    "plt.ylabel('Percentage change of crime', fontsize = 15)\n",
    "plt.show()"
   ]
  },
  {
   "cell_type": "markdown",
   "metadata": {},
   "source": [
    "Here we can see the trend of Crime rates over the year. While they all decrease with Murder, we can see some crime trends that are very similar to the Murder trend. We can see that Robbery, Motor Vehicle Theft, Total Larceny Theft, and Aggravated Assult have similar trends. Lets see if we can calculate the correlation between those crimes and murders so we can focus on one to analyze. "
   ]
  },
  {
   "cell_type": "code",
   "execution_count": 21,
   "metadata": {},
   "outputs": [
    {
     "name": "stdout",
     "output_type": "stream",
     "text": [
      "Total Aggravated Assault and Murder correlation\n",
      "0.9343379379924214\n",
      "Total Larceny Theft and Murder correlation\n",
      "0.9159777784759447\n",
      "Total Motor Vehicle Theft and Murder correlation\n",
      "0.9590348567941476\n",
      "Total Robbery and Murder correlation\n",
      "0.9381802146494735\n"
     ]
    }
   ],
   "source": [
    "print(\"Total Aggravated Assault and Murder correlation\")\n",
    "print(Total_Crimes_df['Murder'].corr(Total_Crimes_df['Aggravated Assault']))\n",
    "print(\"Total Larceny Theft and Murder correlation\")\n",
    "print(Total_Crimes_df['Murder'].corr(Total_Crimes_df['Larceny_Theft']))\n",
    "print(\"Total Motor Vehicle Theft and Murder correlation\")\n",
    "print(Total_Crimes_df['Murder'].corr(Total_Crimes_df['Motor_Vehicle_Theft']))\n",
    "print(\"Total Robbery and Murder correlation\")\n",
    "print(Total_Crimes_df['Murder'].corr(Total_Crimes_df['Robbery']))"
   ]
  },
  {
   "cell_type": "markdown",
   "metadata": {},
   "source": [
    "Suprisingly enough, we see that a non-violent crime (Total Motor Vehicle theft) has the largest correlation with Murder. Now lets test this with linear regression to see how accurate this relationship is with our city data (for the sake of brevity, the charts have been excluded with the results shown in the next section labelled EDA P-Value Histogram.)"
   ]
  },
  {
   "cell_type": "code",
   "execution_count": 22,
   "metadata": {},
   "outputs": [],
   "source": [
    "Row_name = [2015, 2016, 2017, 2018, 2019]\n",
    "P_Value_Motor_Vehicle = []\n",
    "P_Value_Larceny_Theft = []\n",
    "P_Value_Robbery = []\n",
    "P_Value_Aggravated_Assault = []"
   ]
  },
  {
   "cell_type": "code",
   "execution_count": 23,
   "metadata": {},
   "outputs": [],
   "source": [
    "citycombine = citycombine.rename(columns={'Murders 2015': \"M\",'Motor_Vehicle_Theft 2015':'MV'})\n",
    "outcome, predictors = patsy.dmatrices('M ~ MV', citycombine)\n",
    "#mod = smf.ols(formula = 'MV ~ M', data=citycombine)\n",
    "mod = sm.OLS(outcome, predictors)\n",
    "res = mod.fit()\n",
    "# print(res.summary())\n",
    "citycombine = citycombine.rename(columns={'M': \"Murders 2015\",'MV':'Motor_Vehicle_Theft 2015'})"
   ]
  },
  {
   "cell_type": "code",
   "execution_count": 24,
   "metadata": {},
   "outputs": [],
   "source": [
    "p_value_Murders_Motor_Vehicle_Theft_2015 = res.pvalues[0]\n",
    "#print(\"P value between Murders 2015 Motor_Vehicle_Theft 2015 is \")\n",
    "p_value_Murders_Motor_Vehicle_Theft_2015\n",
    "P_Value_Motor_Vehicle.append(1-p_value_Murders_Motor_Vehicle_Theft_2015)"
   ]
  },
  {
   "cell_type": "code",
   "execution_count": 25,
   "metadata": {},
   "outputs": [],
   "source": [
    "citycombine = citycombine.rename(columns={'Murders 2016': \"M\",'Motor_Vehicle_Theft 2016':'MV'})\n",
    "outcome, predictors = patsy.dmatrices('M ~ MV', citycombine)\n",
    "#mod = smf.ols(formula = 'MV ~ M', data=citycombine)\n",
    "mod = sm.OLS(outcome, predictors)\n",
    "res = mod.fit()\n",
    "# print(res.summary())\n",
    "citycombine = citycombine.rename(columns={'M': \"Murders 2016\",'MV':'Motor_Vehicle_Theft 2016'})"
   ]
  },
  {
   "cell_type": "code",
   "execution_count": 26,
   "metadata": {},
   "outputs": [
    {
     "name": "stdout",
     "output_type": "stream",
     "text": [
      "P value between Murders 2016 Motor_Vehicle_Theft 2016 is \n"
     ]
    }
   ],
   "source": [
    "p_value_Murders_Motor_Vehicle_Theft_2016 = res.pvalues[0]\n",
    "print(\"P value between Murders 2016 Motor_Vehicle_Theft 2016 is \")\n",
    "p_value_Murders_Motor_Vehicle_Theft_2016\n",
    "P_Value_Motor_Vehicle.append(1-p_value_Murders_Motor_Vehicle_Theft_2016)"
   ]
  },
  {
   "cell_type": "code",
   "execution_count": 27,
   "metadata": {},
   "outputs": [],
   "source": [
    "citycombine = citycombine.rename(columns={'Murders 2017': \"M\",'Motor_Vehicle_Theft 2017':'MV'})\n",
    "outcome, predictors = patsy.dmatrices('M ~ MV', citycombine)\n",
    "#mod = smf.ols(formula = 'MV ~ M', data=citycombine)\n",
    "mod = sm.OLS(outcome, predictors)\n",
    "res = mod.fit()\n",
    "# print(res.summary())\n",
    "citycombine = citycombine.rename(columns={'M': \"Murders 2017\",'MV':'Motor_Vehicle_Theft 2017'})"
   ]
  },
  {
   "cell_type": "code",
   "execution_count": 28,
   "metadata": {},
   "outputs": [
    {
     "name": "stdout",
     "output_type": "stream",
     "text": [
      "P value between Murders 2017 Motor_Vehicle_Theft 2017 is \n"
     ]
    }
   ],
   "source": [
    "p_value_Murders_Motor_Vehicle_Theft_2017 = res.pvalues[0]\n",
    "print(\"P value between Murders 2017 Motor_Vehicle_Theft 2017 is \")\n",
    "P_Value_Motor_Vehicle.append(1-res.pvalues[0])"
   ]
  },
  {
   "cell_type": "code",
   "execution_count": 29,
   "metadata": {},
   "outputs": [],
   "source": [
    "citycombine = citycombine.rename(columns={'Murders 2018': \"M\",'Motor_Vehicle_Theft 2018':'MV'})\n",
    "outcome, predictors = patsy.dmatrices('M ~ MV', citycombine)\n",
    "#mod = smf.ols(formula = 'MV ~ M', data=citycombine)\n",
    "mod = sm.OLS(outcome, predictors)\n",
    "res = mod.fit()\n",
    "# print(res.summary())\n",
    "citycombine = citycombine.rename(columns={'M': \"Murders 2018\",'MV':'Motor_Vehicle_Theft 2018'})"
   ]
  },
  {
   "cell_type": "code",
   "execution_count": 30,
   "metadata": {},
   "outputs": [
    {
     "name": "stdout",
     "output_type": "stream",
     "text": [
      "P value between Murders 2018 Motor_Vehicle_Theft 2018 is \n"
     ]
    }
   ],
   "source": [
    "p_value_Murders_Motor_Vehicle_Theft_2018 = res.pvalues[0]\n",
    "print(\"P value between Murders 2018 Motor_Vehicle_Theft 2018 is \")\n",
    "p_value_Murders_Motor_Vehicle_Theft_2018\n",
    "P_Value_Motor_Vehicle.append(1-res.pvalues[0])"
   ]
  },
  {
   "cell_type": "code",
   "execution_count": 31,
   "metadata": {},
   "outputs": [],
   "source": [
    "citycombine = citycombine.rename(columns={'Murders 2019': \"M\",'Motor_Vehicle_Theft 2019':'MV'})\n",
    "outcome, predictors = patsy.dmatrices('M ~ MV', citycombine)\n",
    "#mod = smf.ols(formula = 'MV ~ M', data=citycombine)\n",
    "mod = sm.OLS(outcome, predictors)\n",
    "res = mod.fit()\n",
    "# print(res.summary())\n",
    "citycombine = citycombine.rename(columns={'M': \"Murders 2019\",'MV':'Motor_Vehicle_Theft 2019'})"
   ]
  },
  {
   "cell_type": "code",
   "execution_count": 32,
   "metadata": {},
   "outputs": [
    {
     "name": "stdout",
     "output_type": "stream",
     "text": [
      "P value between Murders 2019 Motor_Vehicle_Theft 2019 is \n"
     ]
    }
   ],
   "source": [
    "p_value_Murders_Motor_Vehicle_Theft_2019 = res.pvalues[0]\n",
    "print(\"P value between Murders 2019 Motor_Vehicle_Theft 2019 is \")\n",
    "p_value_Murders_Motor_Vehicle_Theft_2019\n",
    "P_Value_Motor_Vehicle.append(1-res.pvalues[0])"
   ]
  },
  {
   "cell_type": "markdown",
   "metadata": {},
   "source": [
    ""
   ]
  },
  {
   "cell_type": "code",
   "execution_count": 33,
   "metadata": {},
   "outputs": [],
   "source": [
    "\n",
    "citycombine = citycombine.rename(columns={'Murders 2015': \"M\",'Robbery 2015':'MV'})\n",
    "outcome_1, predictors_1 = patsy.dmatrices('M ~ MV', citycombine)\n",
    "#mod = smf.ols(formula = 'MV ~ M', data=citycombine)\n",
    "mod_1 = sm.OLS(outcome_1, predictors_1)\n",
    "res_1 = mod_1.fit()\n",
    "# print(res_1.summary())\n",
    "citycombine = citycombine.rename(columns={'M': \"Murders 2015\",'MV':'Robbery 2015'})"
   ]
  },
  {
   "cell_type": "code",
   "execution_count": 34,
   "metadata": {},
   "outputs": [],
   "source": [
    "p_value_Murders_Robbery_2015 = res.pvalues[0]\n",
    "#print(\"P value between Murders 2015 Robbery 2015 is \")\n",
    "P_Value_Robbery.append(1-res.pvalues[0])"
   ]
  },
  {
   "cell_type": "code",
   "execution_count": 35,
   "metadata": {},
   "outputs": [],
   "source": [
    "citycombine = citycombine.rename(columns={'Murders 2016': \"M\",'Robbery 2016':'MV'})\n",
    "outcome_1, predictors_1 = patsy.dmatrices('M ~ MV', citycombine)\n",
    "#mod = smf.ols(formula = 'MV ~ M', data=citycombine)\n",
    "mod_1 = sm.OLS(outcome_1, predictors_1)\n",
    "res_1 = mod_1.fit()\n",
    "# print(res_1.summary())\n",
    "citycombine = citycombine.rename(columns={'M': \"Murders 2016\",'MV':'Robbery 2016'})"
   ]
  },
  {
   "cell_type": "code",
   "execution_count": 36,
   "metadata": {},
   "outputs": [],
   "source": [
    "p_value_Murders_Robbery_2016 = res.pvalues[0]\n",
    "#print(\"P value between Murders 2016 Robbery 2016 is \")\n",
    "p_value_Murders_Robbery_2016\n",
    "P_Value_Robbery.append(1-res.pvalues[0])"
   ]
  },
  {
   "cell_type": "code",
   "execution_count": 37,
   "metadata": {},
   "outputs": [],
   "source": [
    "citycombine = citycombine.rename(columns={'Murders 2017': \"M\",'Robbery 2017':'MV'})\n",
    "outcome_1, predictors_1 = patsy.dmatrices('M ~ MV', citycombine)\n",
    "#mod = smf.ols(formula = 'MV ~ M', data=citycombine)\n",
    "mod_1 = sm.OLS(outcome_1, predictors_1)\n",
    "res_1 = mod_1.fit()\n",
    "# print(res_1.summary())\n",
    "citycombine = citycombine.rename(columns={'M': \"Murders 2017\",'MV':'Robbery 2017'})"
   ]
  },
  {
   "cell_type": "code",
   "execution_count": 38,
   "metadata": {},
   "outputs": [],
   "source": [
    "p_value_Murders_Robbery_2017 = res.pvalues[0]\n",
    "#print(\"P value between Murders 2017 Robbery 2017 is \")\n",
    "p_value_Murders_Robbery_2017\n",
    "P_Value_Robbery.append(1-res.pvalues[0])"
   ]
  },
  {
   "cell_type": "code",
   "execution_count": 39,
   "metadata": {},
   "outputs": [],
   "source": [
    "citycombine = citycombine.rename(columns={'Murders 2018': \"M\",'Robbery 2018':'MV'})\n",
    "outcome_1, predictors_1 = patsy.dmatrices('M ~ MV', citycombine)\n",
    "#mod = smf.ols(formula = 'MV ~ M', data=citycombine)\n",
    "mod_1 = sm.OLS(outcome_1, predictors_1)\n",
    "res_1 = mod_1.fit()\n",
    "# print(res_1.summary())\n",
    "citycombine = citycombine.rename(columns={'M': \"Murders 2018\",'MV':'Robbery 2018'})"
   ]
  },
  {
   "cell_type": "code",
   "execution_count": 40,
   "metadata": {},
   "outputs": [],
   "source": [
    "p_value_Murders_Robbery_2018 = res.pvalues[0]\n",
    "#print(\"P value between Murders 2018 Robbery 2018 is \")\n",
    "p_value_Murders_Robbery_2018\n",
    "P_Value_Robbery.append(1-res.pvalues[0])"
   ]
  },
  {
   "cell_type": "code",
   "execution_count": 41,
   "metadata": {},
   "outputs": [],
   "source": [
    "citycombine = citycombine.rename(columns={'Murders 2019': \"M\",'Robbery 2019':'MV'})\n",
    "outcome_1, predictors_1 = patsy.dmatrices('M ~ MV', citycombine)\n",
    "#mod = smf.ols(formula = 'MV ~ M', data=citycombine)\n",
    "mod_1 = sm.OLS(outcome_1, predictors_1)\n",
    "res_1 = mod_1.fit()\n",
    "# print(res_1.summary())\n",
    "citycombine = citycombine.rename(columns={'M': \"Murders 2019\",'MV':'Robbery 2019'})"
   ]
  },
  {
   "cell_type": "code",
   "execution_count": 42,
   "metadata": {},
   "outputs": [],
   "source": [
    "p_value_Murders_Robbery_2019 = res.pvalues[0]\n",
    "#print(\"P value between Murders 2019 Robbery 2019 is \")\n",
    "p_value_Murders_Robbery_2019\n",
    "P_Value_Robbery.append(1-res.pvalues[0])"
   ]
  },
  {
   "cell_type": "code",
   "execution_count": 43,
   "metadata": {},
   "outputs": [],
   "source": [
    "citycombine = citycombine.rename(columns={'Murders 2015': \"M\",'Aggravated_Assault 2015':'MV'})\n",
    "outcome, predictors = patsy.dmatrices('M ~ MV', citycombine)\n",
    "#mod = smf.ols(formula = 'MV ~ M', data=citycombine)\n",
    "mod = sm.OLS(outcome, predictors)\n",
    "res = mod.fit()\n",
    "# print(res.summary())\n",
    "citycombine = citycombine.rename(columns={'M': \"Murders 2015\",'MV':'Aggravated_Assault 2015'})"
   ]
  },
  {
   "cell_type": "code",
   "execution_count": 44,
   "metadata": {},
   "outputs": [],
   "source": [
    "p_value_Murders_Aggravated_Assault_2015 = res.pvalues[0]\n",
    "#print(\"P value between Murders 2015 Aggravated_Assault 2015 is \")\n",
    "p_value_Murders_Aggravated_Assault_2015\n",
    "P_Value_Aggravated_Assault.append(1-res.pvalues[0])"
   ]
  },
  {
   "cell_type": "code",
   "execution_count": 45,
   "metadata": {},
   "outputs": [],
   "source": [
    "citycombine = citycombine.rename(columns={'Murders 2016': \"M\",'Aggravated_Assault 2016':'MV'})\n",
    "outcome, predictors = patsy.dmatrices('M ~ MV', citycombine)\n",
    "#mod = smf.ols(formula = 'MV ~ M', data=citycombine)\n",
    "mod = sm.OLS(outcome, predictors)\n",
    "res = mod.fit()\n",
    "# print(res.summary())\n",
    "citycombine = citycombine.rename(columns={'M': \"Murders 2016\",'MV':'Aggravated_Assault 2016'})"
   ]
  },
  {
   "cell_type": "code",
   "execution_count": 46,
   "metadata": {},
   "outputs": [],
   "source": [
    "p_value_Murders_Aggravated_Assault_2016 = res.pvalues[0]\n",
    "#print(\"P value between Murders 2016 Aggravated_Assault 2016 is \")\n",
    "p_value_Murders_Aggravated_Assault_2016\n",
    "P_Value_Aggravated_Assault.append(1-res.pvalues[0])"
   ]
  },
  {
   "cell_type": "code",
   "execution_count": 47,
   "metadata": {},
   "outputs": [],
   "source": [
    "citycombine = citycombine.rename(columns={'Murders 2017': \"M\",'Aggravated_Assault 2017':'MV'})\n",
    "outcome, predictors = patsy.dmatrices('M ~ MV', citycombine)\n",
    "#mod = smf.ols(formula = 'MV ~ M', data=citycombine)\n",
    "mod = sm.OLS(outcome, predictors)\n",
    "res = mod.fit()\n",
    "# print(res.summary())\n",
    "citycombine = citycombine.rename(columns={'M': \"Murders 2017\",'MV':'Aggravated_Assault 2017'})"
   ]
  },
  {
   "cell_type": "code",
   "execution_count": 48,
   "metadata": {},
   "outputs": [],
   "source": [
    "p_value_Murders_Aggravated_Assault_2017 = res.pvalues[0]\n",
    "#print(\"P value between Murders 2017 Aggravated_Assault 2017 is \")\n",
    "p_value_Murders_Aggravated_Assault_2017\n",
    "P_Value_Aggravated_Assault.append(1-res.pvalues[0])"
   ]
  },
  {
   "cell_type": "code",
   "execution_count": 49,
   "metadata": {},
   "outputs": [],
   "source": [
    "citycombine = citycombine.rename(columns={'Murders 2018': \"M\",'Aggravated_Assault 2018':'MV'})\n",
    "outcome, predictors = patsy.dmatrices('M ~ MV', citycombine)\n",
    "#mod = smf.ols(formula = 'MV ~ M', data=citycombine)\n",
    "mod = sm.OLS(outcome, predictors)\n",
    "res = mod.fit()\n",
    "# print(res.summary())\n",
    "citycombine = citycombine.rename(columns={'M': \"Murders 2018\",'MV':'Aggravated_Assault 2018'})"
   ]
  },
  {
   "cell_type": "code",
   "execution_count": 50,
   "metadata": {},
   "outputs": [],
   "source": [
    "p_value_Murders_Aggravated_Assault_2018 = res.pvalues[0]\n",
    "#print(\"P value between Murders 2018 Aggravated_Assault 2018 is \")\n",
    "p_value_Murders_Aggravated_Assault_2018\n",
    "P_Value_Aggravated_Assault.append(1-res.pvalues[0])"
   ]
  },
  {
   "cell_type": "code",
   "execution_count": 51,
   "metadata": {},
   "outputs": [],
   "source": [
    "citycombine = citycombine.rename(columns={'Murders 2019': \"M\",'Aggravated_Assault 2019':'MV'})\n",
    "outcome, predictors = patsy.dmatrices('M ~ MV', citycombine)\n",
    "#mod = smf.ols(formula = 'MV ~ M', data=citycombine)\n",
    "mod = sm.OLS(outcome, predictors)\n",
    "res = mod.fit()\n",
    "# print(res.summary())\n",
    "citycombine = citycombine.rename(columns={'M': \"Murders 2019\",'MV':'Aggravated_Assault 2019'})"
   ]
  },
  {
   "cell_type": "code",
   "execution_count": 52,
   "metadata": {},
   "outputs": [],
   "source": [
    "p_value_Murders_Aggravated_Assault_2019 = res.pvalues[0]\n",
    "#print(\"P value between Murders 2019 Aggravated_Assault 2019 is \")\n",
    "p_value_Murders_Aggravated_Assault_2019\n",
    "P_Value_Aggravated_Assault.append(1-res.pvalues[0])\n"
   ]
  },
  {
   "cell_type": "code",
   "execution_count": 53,
   "metadata": {},
   "outputs": [],
   "source": [
    "citycombine = citycombine.rename(columns={'Murders 2015': \"M\",'Larceny_Theft 2015':'MV'})\n",
    "outcome, predictors = patsy.dmatrices('M ~ MV', citycombine)\n",
    "#mod = smf.ols(formula = 'MV ~ M', data=citycombine)\n",
    "mod = sm.OLS(outcome, predictors)\n",
    "res = mod.fit()\n",
    "# print(res.summary())\n",
    "citycombine = citycombine.rename(columns={'M': \"Murders 2015\",'MV':'Larceny_Theft 2015'})"
   ]
  },
  {
   "cell_type": "code",
   "execution_count": 54,
   "metadata": {},
   "outputs": [],
   "source": [
    "p_value_Murders_Larceny_Theft_2015 = res.pvalues[0]\n",
    "#print(\"P value between Murders 2015 Larceny_Theft 2015 is \")\n",
    "p_value_Murders_Larceny_Theft_2015\n",
    "P_Value_Larceny_Theft.append(1-res.pvalues[0])"
   ]
  },
  {
   "cell_type": "code",
   "execution_count": 55,
   "metadata": {},
   "outputs": [],
   "source": [
    "citycombine = citycombine.rename(columns={'Murders 2016': \"M\",'Larceny_Theft 2016':'MV'})\n",
    "outcome, predictors = patsy.dmatrices('M ~ MV', citycombine)\n",
    "#mod = smf.ols(formula = 'MV ~ M', data=citycombine)\n",
    "mod = sm.OLS(outcome, predictors)\n",
    "res = mod.fit()\n",
    "# print(res.summary())\n",
    "citycombine = citycombine.rename(columns={'M': \"Murders 2016\",'MV':'Larceny_Theft 2016'})"
   ]
  },
  {
   "cell_type": "code",
   "execution_count": 56,
   "metadata": {},
   "outputs": [],
   "source": [
    "p_value_Murders_Larceny_Theft_2016 = res.pvalues[0]\n",
    "#print(\"P value between Murders 2016 Larceny_Theft 2016 is \")\n",
    "p_value_Murders_Larceny_Theft_2016\n",
    "P_Value_Larceny_Theft.append(1-res.pvalues[0])"
   ]
  },
  {
   "cell_type": "code",
   "execution_count": 57,
   "metadata": {},
   "outputs": [],
   "source": [
    "citycombine = citycombine.rename(columns={'Murders 2017': \"M\",'Larceny_Theft 2017':'MV'})\n",
    "outcome, predictors = patsy.dmatrices('M ~ MV', citycombine)\n",
    "#mod = smf.ols(formula = 'MV ~ M', data=citycombine)\n",
    "mod = sm.OLS(outcome, predictors)\n",
    "res = mod.fit()\n",
    "# print(res.summary())\n",
    "citycombine = citycombine.rename(columns={'M': \"Murders 2017\",'MV':'Larceny_Theft 2017'})"
   ]
  },
  {
   "cell_type": "code",
   "execution_count": 58,
   "metadata": {},
   "outputs": [],
   "source": [
    "p_value_Murders_Larceny_Theft_2017 = res.pvalues[0]\n",
    "#print(\"P value between Murders 2017 Larceny_Theft 2017 is \")\n",
    "p_value_Murders_Larceny_Theft_2017\n",
    "P_Value_Larceny_Theft.append(1-res.pvalues[0])"
   ]
  },
  {
   "cell_type": "code",
   "execution_count": 59,
   "metadata": {},
   "outputs": [],
   "source": [
    "citycombine = citycombine.rename(columns={'Murders 2018': \"M\",'Larceny_Theft 2018':'MV'})\n",
    "outcome, predictors = patsy.dmatrices('M ~ MV', citycombine)\n",
    "#mod = smf.ols(formula = 'MV ~ M', data=citycombine)\n",
    "mod = sm.OLS(outcome, predictors)\n",
    "res = mod.fit()\n",
    "# print(res.summary())\n",
    "citycombine = citycombine.rename(columns={'M': \"Murders 2018\",'MV':'Larceny_Theft 2018'})"
   ]
  },
  {
   "cell_type": "code",
   "execution_count": 60,
   "metadata": {},
   "outputs": [],
   "source": [
    "p_value_Murders_Larceny_Theft_2018 = res.pvalues[0]\n",
    "#print(\"P value between Murders 2018 Larceny_Theft 2018 is \")\n",
    "p_value_Murders_Larceny_Theft_2018\n",
    "P_Value_Larceny_Theft.append(1-res.pvalues[0])"
   ]
  },
  {
   "cell_type": "code",
   "execution_count": 61,
   "metadata": {},
   "outputs": [],
   "source": [
    "citycombine = citycombine.rename(columns={'Murders 2019': \"M\",'Larceny_Theft 2019':'MV'})\n",
    "outcome, predictors = patsy.dmatrices('M ~ MV', citycombine)\n",
    "#mod = smf.ols(formula = 'MV ~ M', data=citycombine)\n",
    "mod = sm.OLS(outcome, predictors)\n",
    "res = mod.fit()\n",
    "# print(res.summary())\n",
    "citycombine = citycombine.rename(columns={'M': \"Murders 2019\",'MV':'Larceny_Theft 2019'})"
   ]
  },
  {
   "cell_type": "code",
   "execution_count": 62,
   "metadata": {},
   "outputs": [],
   "source": [
    "p_value_Murders_Larceny_Theft_2019 = res.pvalues[0]\n",
    "#print(\"P value between Murders 2019 Larceny_Theft 2019 is \")\n",
    "p_value_Murders_Larceny_Theft_2019\n",
    "P_Value_Larceny_Theft.append(1-res.pvalues[0])"
   ]
  },
  {
   "cell_type": "markdown",
   "metadata": {},
   "source": [
    "# EDA P-Value Histogram"
   ]
  },
  {
   "cell_type": "markdown",
   "metadata": {},
   "source": [
    "We want to visualize all the p-values in a histogram to see which crimes had a p-value significance .95 to 1, which indicates it had a signifcant impact on murder rates. "
   ]
  },
  {
   "cell_type": "code",
   "execution_count": 63,
   "metadata": {},
   "outputs": [
    {
     "data": {
      "image/png": "[encoded data removed]",
      "text/plain": [
       "<Figure size 432x288 with 1 Axes>"
      ]
     },
     "metadata": {
      "needs_background": "light"
     },
     "output_type": "display_data"
    },
    {
     "data": {
      "image/png": "[encoded data removed]",
      "text/plain": [
       "<Figure size 432x288 with 1 Axes>"
      ]
     },
     "metadata": {
      "needs_background": "light"
     },
     "output_type": "display_data"
    },
    {
     "data": {
      "image/png": "[encoded data removed]",
      "text/plain": [
       "<Figure size 432x288 with 1 Axes>"
      ]
     },
     "metadata": {
      "needs_background": "light"
     },
     "output_type": "display_data"
    },
    {
     "data": {
      "image/png": "[encoded data removed]",
      "text/plain": [
       "<Figure size 432x288 with 1 Axes>"
      ]
     },
     "metadata": {
      "needs_background": "light"
     },
     "output_type": "display_data"
    }
   ],
   "source": [
    "P_Value_df = pd.DataFrame({\n",
    "                                'Aggravated Assault' : P_Value_Aggravated_Assault,\n",
    "                                'Larceny_Theft' : P_Value_Larceny_Theft,\n",
    "                                'Motor_Vehicle_Theft' : P_Value_Motor_Vehicle,\n",
    "                                'Robbery':P_Value_Robbery},\n",
    "                                index=['2015','2016','2017','2018','2019'])\n",
    "\n",
    "\n",
    "\n",
    "#P_Value_df.hist(bins=20,figsize=(6,6))\n",
    "plt.hist(P_Value_df['Aggravated Assault'],range=[.7,1],bins=6)\n",
    "\n",
    "plt.title('Aggravated Assault P-value significance (1-p-value)')\n",
    "\n",
    "plt.show()\n",
    "\n",
    "plt.hist(P_Value_df['Larceny_Theft'],range=[.7,1],bins=6)\n",
    "\n",
    "plt.title('Larceny_Theft P-value significance (1-p-value)')\n",
    "\n",
    "\n",
    "plt.show()\n",
    "\n",
    "plt.hist(P_Value_df['Motor_Vehicle_Theft'],range=[.7,1],bins=6)\n",
    "\n",
    "plt.title('Motor_Vehicle_Theft P-value significance (1-p-value)')\n",
    "\n",
    "plt.show()\n",
    "\n",
    "plt.hist(P_Value_df['Robbery'],range=[.7,1],bins=6)\n",
    "\n",
    "plt.title('Robbery P-value significance (1-p-value)')\n",
    "\n",
    "\n",
    "plt.show()"
   ]
  },
  {
   "cell_type": "markdown",
   "metadata": {},
   "source": [
    "Although we had a very high correlation with Motor Vehile Theft and Murder rates for their totals, the P values from these test result in Motor Vehicle Thefts show that they do not have a huge affect on Murder Rates. We see from the histograms that only Larceny Theft and Aggravated Assault had a p-value of .05 or less. Aggravated Assault had 3 years the p-value showed it had an affect on Murder rates, while Larcney Theft only had 2 years. "
   ]
  },
  {
   "cell_type": "markdown",
   "metadata": {},
   "source": [
    "# Ethics & Privacy"
   ]
  },
  {
   "cell_type": "markdown",
   "metadata": {},
   "source": [
    "Our data was all sourced from the FBI through its Uniform Crime Reporting (UCR) program. This data is all publicly available data with no personal identifiers, and thus there are minimal privacy concerns from our data.\n One potential limitation with the data is that all the data that the FBI receives for the UCR program is voluntarily sourced from participating agencies, and thus the data may be subject to potential biases from what was chosen to be reported. Although the data does go through certain checks outlined by the FBI (as seen here: https://ucr.fbi.gov/data-quality-guidelines-new), it is still subject to errors caused by data from areas that aren't fully reported. However, this is also likely fairly minimal and not enough to cause our results to be invalid."
   ]
  },
  {
   "cell_type": "markdown",
   "metadata": {},
   "source": []
  },
  {
   "cell_type": "markdown",
   "metadata": {},
   "source": [
    "# Conclusion & Discussion"
   ]
  },
  {
   "cell_type": "markdown",
   "metadata": {},
   "source": [
    "At the beginning of our project, we assumed that murder cases should have a higher correlation with violent crimes such as rape, robbery, and aggravated assault compared to property crimes like larceny theft, motor vehicle theft, and burglary. \n",
    "To begin our analysis, we first used line and bar charts to determine which crimes rates were closest to each other year by year. From there, we chose the closest ones to conduct ordinary least squares regression tests on. This allowed us to determine which ones were most significant by calculating the p-values of all of these crimes we focused on. After calculating all the p-values of the crimes of interest, we found that aggravated assault had the highest correlation to murder cases, however to our suprise, larceny theft had the second highest correlation with murder. Aggravated assault made the most sense to be connected with murder cases since it is inherently a violent crime and involves inflicting harm on someone. Larceny theft however does not directly involve injuring another individual, so it came as a suprise when it was found to be highly correlated to murder cases compared to the other crimes in cities. \n",
    "\n",
    "We have viewed other crimes as well such as robbery and motor vehicle theft, but our OLS regression results show us that they have no meaningful connection towards murder cases changes as shown by their p-values. \n",
    "\n"
   ]
  },
  {
   "cell_type": "markdown",
   "metadata": {},
   "source": [
    "# Team Contributions"
   ]
  },
  {
   "cell_type": "markdown",
   "metadata": {},
   "source": [
    "- Issac Navarro - Data Cleaning, EDA, Conclusion & Discussion\n",
    "- Kelly Nham - Overview, Hypothesis, Datasets, EDA\n",
    "- Aryan Safari - Data Cleaning, EDA, Conclusion & Discussion\n",
    "- Albert Zhong - Background and Prior Work, Data Cleaning, EDA, Ethics & Privacy, Conclusion & Discussion"
   ]
  },
  {
   "cell_type": "code",
   "execution_count": null,
   "metadata": {},
   "outputs": [],
   "source": ["#Thank you for the wonderful quarter and have a great summer break! :)"]
  }
 ],
 "metadata": {
  "kernelspec": {
   "display_name": "Python 3 (ipykernel)",
   "language": "python",
   "name": "python3"
  },
  "language_info": {
   "codemirror_mode": {
    "name": "ipython",
    "version": 3
   },
   "file_extension": ".py",
   "mimetype": "text/x-python",
   "name": "python",
   "nbconvert_exporter": "python",
   "pygments_lexer": "ipython3",
   "version": "3.9.5"
  }
 },
 "nbformat": 4,
 "nbformat_minor": 2
}
